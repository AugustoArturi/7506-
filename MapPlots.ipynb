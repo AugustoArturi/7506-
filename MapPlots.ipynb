{
 "cells": [
  {
   "cell_type": "code",
   "execution_count": null,
   "metadata": {
    "collapsed": true,
    "deletable": true,
    "editable": true
   },
   "outputs": [],
   "source": [
    "import pandas as pd\n",
    "import folium\n",
    "import json\n",
    "import branca.colormap as cm"
   ]
  },
  {
   "cell_type": "code",
   "execution_count": null,
   "metadata": {
    "collapsed": true,
    "deletable": true,
    "editable": true
   },
   "outputs": [],
   "source": [
    "dfEstaciones =pd.read_csv('../CSVs/station.csv', thousands=',', low_memory=False)\n",
    "dfViajes = pd.read_csv('../CSVs/trip.csv', thousands=',', low_memory=False)"
   ]
  },
  {
   "cell_type": "code",
   "execution_count": null,
   "metadata": {
    "collapsed": true,
    "deletable": true,
    "editable": true
   },
   "outputs": [],
   "source": [
    "latPromedio = dfEstaciones.lat.mean()\n",
    "longPromedio = dfEstaciones.long.mean()"
   ]
  },
  {
   "cell_type": "code",
   "execution_count": null,
   "metadata": {
    "collapsed": false,
    "deletable": true,
    "editable": true
   },
   "outputs": [],
   "source": [
    "dfEstaciones"
   ]
  },
  {
   "cell_type": "code",
   "execution_count": null,
   "metadata": {
    "collapsed": false,
    "deletable": true,
    "editable": true
   },
   "outputs": [],
   "source": [
    "dfViajes"
   ]
  },
  {
   "cell_type": "code",
   "execution_count": null,
   "metadata": {
    "collapsed": false,
    "deletable": true,
    "editable": true
   },
   "outputs": [],
   "source": [
    "cantidadTotalDeBicicletasSoportadas = dfEstaciones.dock_count.sum()\n",
    "print cantidadTotalDeBicicletasSoportadas"
   ]
  },
  {
   "cell_type": "code",
   "execution_count": null,
   "metadata": {
    "collapsed": true,
    "deletable": true,
    "editable": true
   },
   "outputs": [],
   "source": [
    "map1 = folium.Map(location=[latPromedio, longPromedio], tiles = \"Stamen Terrain\")\n",
    "map1Copy = folium.Map(location=[latPromedio, longPromedio], tiles = \"Stamen Terrain\")\n",
    "map2 = folium.Map(location=[latPromedio, longPromedio], tiles = \"Stamen Terrain\")\n",
    "startStationMap = folium.Map(location=[latPromedio, longPromedio], tiles = \"Stamen Terrain\")\n",
    "viajesEntreEstacionesMap = folium.Map(location=[latPromedio, longPromedio], tiles = \"Stamen Terrain\")\n"
   ]
  },
  {
   "cell_type": "code",
   "execution_count": null,
   "metadata": {
    "collapsed": false,
    "deletable": true,
    "editable": true
   },
   "outputs": [],
   "source": [
    "grupoDeUbicaciones = folium.FeatureGroup(name='Ubicación de estaciones 1')\n",
    "for lat, lon, nombre in zip(dfEstaciones.lat, dfEstaciones.long, dfEstaciones.name):\n",
    "    grupoDeUbicaciones.add_child(folium.Marker(location=[lat,lon], popup=nombre))\n",
    "    \n",
    "map1.add_child(grupoDeUbicaciones)"
   ]
  },
  {
   "cell_type": "code",
   "execution_count": null,
   "metadata": {
    "collapsed": false,
    "deletable": true,
    "editable": true
   },
   "outputs": [],
   "source": [
    "# Ahora intento version con MarkerCluster\n",
    "# map1Copy.add_child(folium.MarkerCluster(locations=list(zip(dfEstaciones.long, dfEstaciones.lat))))\n",
    "\n",
    "clusterDeUbicaciones = folium.MarkerCluster().add_to(map1Copy)\n",
    "for lat, lon, nombre in zip(dfEstaciones.lat, dfEstaciones.long, dfEstaciones.name):\n",
    "    folium.Marker(location=[lat,lon], popup=nombre).add_to(clusterDeUbicaciones)\n",
    "    \n",
    "# map1.add_child(grupoDeUbicaciones)\n",
    "map1Copy"
   ]
  },
  {
   "cell_type": "code",
   "execution_count": null,
   "metadata": {
    "collapsed": false,
    "deletable": true,
    "editable": true
   },
   "outputs": [],
   "source": [
    "grupoDeUbicacionesConCantidades = folium.FeatureGroup(name='Ubicación de estaciones')\n",
    "for lat, lon, nombre, cantidadDeBicicletasSoportadas in zip(dfEstaciones.lat, dfEstaciones.long, dfEstaciones.name, dfEstaciones.dock_count):\n",
    "    grupoDeUbicacionesConCantidades.add_child(folium.CircleMarker(location=[lat,lon], popup=nombre, \n",
    "                                                     radius=cantidadDeBicicletasSoportadas, \n",
    "                                                     fill_color='#b3ffb3', color='#00ff00'))\n",
    "    \n",
    "map2.add_child(grupoDeUbicacionesConCantidades)"
   ]
  },
  {
   "cell_type": "code",
   "execution_count": null,
   "metadata": {
    "collapsed": false,
    "deletable": true,
    "editable": true
   },
   "outputs": [],
   "source": [
    "dfStartStationCount = dfViajes[['id', 'start_station_id']].groupby(by='start_station_id', as_index=False)\\\n",
    "                                                .count().rename(columns={'id': 'cantidad_de_partidas'})\n",
    "dfStartStationCount"
   ]
  },
  {
   "cell_type": "code",
   "execution_count": null,
   "metadata": {
    "collapsed": false,
    "deletable": true,
    "editable": true
   },
   "outputs": [],
   "source": [
    "dfPartidas = dfEstaciones[['id', 'lat', 'long', 'name']].merge(pd.DataFrame(dfStartStationCount), \\\n",
    "         left_on='id', right_on='start_station_id', how='right')\n",
    "dfPartidas"
   ]
  },
  {
   "cell_type": "code",
   "execution_count": null,
   "metadata": {
    "collapsed": false,
    "deletable": true,
    "editable": true
   },
   "outputs": [],
   "source": [
    "cantidad_de_partidas_maxima = dfPartidas.cantidad_de_partidas.max()\n",
    "cantidad_de_partidas_maxima"
   ]
  },
  {
   "cell_type": "code",
   "execution_count": null,
   "metadata": {
    "collapsed": false,
    "deletable": true,
    "editable": true
   },
   "outputs": [],
   "source": [
    "grupoDeUbicacionesConCantidadesDePartidas = folium.FeatureGroup(name='Ubicación de estaciones con infor de #partidas')\n",
    "for lat, lon, nombre, cant in zip(dfPartidas.lat, dfPartidas.long, dfPartidas.name, dfPartidas.cantidad_de_partidas):\n",
    "    grupoDeUbicacionesConCantidadesDePartidas.add_child(folium.CircleMarker(location=[lat,lon], popup=nombre, \n",
    "                                                     radius=cant/1000,\n",
    "                                                     fill_color='#8A2BE2', color='#00ff00'))\n",
    "    \n",
    "startStationMap.add_child(grupoDeUbicacionesConCantidadesDePartidas)"
   ]
  },
  {
   "cell_type": "code",
   "execution_count": null,
   "metadata": {
    "collapsed": false,
    "deletable": true,
    "editable": true,
    "scrolled": false
   },
   "outputs": [],
   "source": [
    "# df = pd.DataFrame(columns=['start_station_id', 'start_station_lat', 'start_station_lon',\n",
    "#                            'end_station_id', 'end_station_lat', 'end_station_lon'])\n",
    "# df.start_station_id = dfViajes.start_station_id\n",
    "# df\n",
    "# dfStartStationCount['start_station_lat'] = dfEstaciones['lat']\n",
    "# dfStartStationCount['start_station_lon'] = dfEstaciones['long']\n",
    "# dfStartStationCount['name'] = dfEstaciones['name']\n",
    "# for idEstacionSalida in dfStartStationCount.index.tolist():\n",
    "#     dfStartStationCount['start_station_lat'] = dfEstaciones.loc[dfEstaciones.id == idEstacionSalida, 'lat'] \n",
    "# dfStartStationCount"
   ]
  },
  {
   "cell_type": "code",
   "execution_count": null,
   "metadata": {
    "collapsed": true,
    "deletable": true,
    "editable": true
   },
   "outputs": [],
   "source": [
    "# grupoDeUbicacionesConCantidades = folium.FeatureGroup(name='Ubicación de estaciones')\n",
    "# for lat, lon, nombre, cantidadDeBicicletasSoportadas in zip(dfEstaciones.lat, dfEstaciones.long, dfEstaciones.name, dfEstaciones.dock_count):\n",
    "#     grupoDeUbicacionesConCantidades.add_child(folium.CircleMarker(location=[lat,lon], popup=nombre, \n",
    "#                                                      radius=cantidadDeBicicletasSoportadas, \n",
    "#                                                      fill_color='#b3ffb3', color='#00ff00'))\n",
    "    \n",
    "# map2.add_child(grupoDeUbicacionesConCantidades)"
   ]
  },
  {
   "cell_type": "code",
   "execution_count": null,
   "metadata": {
    "collapsed": false,
    "deletable": true,
    "editable": true
   },
   "outputs": [],
   "source": [
    "dfViajesEntreEstaciones = dfViajes[['id', 'start_station_id', 'end_station_id']]\\\n",
    "        .groupby(by=['start_station_id', 'end_station_id'], as_index=False)\\\n",
    "        .count().rename(columns={'id': 'cantidad'})\n",
    "dfViajesEntreEstaciones"
   ]
  },
  {
   "cell_type": "code",
   "execution_count": null,
   "metadata": {
    "collapsed": false,
    "deletable": true,
    "editable": true
   },
   "outputs": [],
   "source": [
    "dfViajesEntreEstaciones = dfViajesEntreEstaciones.merge(right=dfEstaciones[['lat', 'long', 'id', 'name']], \\\n",
    "                              left_on='start_station_id', right_on='id')\\\n",
    "                            .drop(['id'], 1).rename(columns={'lat': 'start_station_lat', 'long': \\\n",
    "                                                          'start_station_long', 'name': 'start_station_name'})"
   ]
  },
  {
   "cell_type": "code",
   "execution_count": null,
   "metadata": {
    "collapsed": false,
    "deletable": true,
    "editable": true
   },
   "outputs": [],
   "source": [
    "dfViajesEntreEstaciones = dfViajesEntreEstaciones.merge(right=dfEstaciones[['lat', 'long', 'id', 'name']], \\\n",
    "                              left_on='end_station_id', right_on='id')\\\n",
    "                            .drop(['id'], 1).rename(columns={'lat': 'end_station_lat', 'long': \\\n",
    "                                                          'end_station_long', 'name': 'end_station_name'})\n",
    "dfViajesEntreEstaciones.sort_values(by='cantidad', ascending=True)"
   ]
  },
  {
   "cell_type": "code",
   "execution_count": null,
   "metadata": {
    "collapsed": false,
    "deletable": true,
    "editable": true
   },
   "outputs": [],
   "source": [
    "dfViajesEntreEstaciones.cantidad.describe()"
   ]
  },
  {
   "cell_type": "code",
   "execution_count": null,
   "metadata": {
    "collapsed": false,
    "deletable": true,
    "editable": true
   },
   "outputs": [],
   "source": [
    "maxCantidadDeViajes = dfViajesEntreEstaciones.cantidad.max()\n",
    "promedioCantidadDeViajes = dfViajesEntreEstaciones.cantidad.mean()\n",
    "dfViajesEntreEstaciones.cantidad.max()"
   ]
  },
  {
   "cell_type": "code",
   "execution_count": null,
   "metadata": {
    "collapsed": false,
    "deletable": true,
    "editable": true
   },
   "outputs": [],
   "source": [
    "grupoDeViajesEntreEstaciones = folium.FeatureGroup(name='Viajes entre estaciones')\n",
    "for startLat, startLon, startName, endLat, endLon, endName, cant in zip(dfViajesEntreEstaciones.start_station_lat\\\n",
    "                                                                       dfViajesEntreEstaciones.start_station_long\\\n",
    "                                                                       dfViajesEntreEstaciones.start_station_name\\\n",
    "                                                                       dfViajesEntreEstaciones.end_station_lat\\\n",
    "                                                                       dfViajesEntreEstaciones.end_station_long\\\n",
    "                                                                       dfViajesEntreEstaciones.end_station_name\\\n",
    "                                                                       dfViajesEntreEstaciones.cantidad):\n",
    "    grupoDeUbicacionesConCantidadesDePartidas.add_child(folium.Marker(location=[lat,lon], popup=nombre, \n",
    "                                                     radius=cant/1000,\n",
    "                                                     fill_color='#8A2BE2', color='#00ff00'))\n",
    "    \n",
    "startStationMap.add_child(grupoDeUbicacionesConCantidadesDePartidas)"
   ]
  },
  {
   "cell_type": "code",
   "execution_count": null,
   "metadata": {
    "collapsed": false,
    "deletable": true,
    "editable": true
   },
   "outputs": [],
   "source": [
    "# colores = cm.LinearColormap(['green', 'orange', 'red'], vmax=maxCantidadDeViajes, \n",
    "#                   index=[0, promedioCantidadDeViajes, maxCantidadDeViajes])\n",
    "\n",
    "# colores = cm.LinearColormap(['red', 'orange', 'yellow', 'green'], vmax = maxCantidadDeViajes)\n",
    "\n",
    "colores = cm.StepColormap(['green', 'yellow', 'magenta', 'red'],\n",
    "                       vmin=1, vmax=maxCantidadDeViajes, index=[1, 71.5, 191, 440, maxCantidadDeViajes],\n",
    "                       caption='step')\n",
    "colores.caption = 'Cantidad de viajes entre estaciones'\n",
    "# colores = cm.linear.Set1.scale(0, maxCantidadDeViajes).to_step(\n",
    "# #     n=4,\n",
    "#     index=[1, 71.5, 191, 440, 6216],\n",
    "# #     method='quantiles',\n",
    "# #     round_method='int'\n",
    "# )\n",
    "# colores.to_linear()\n",
    "colores2 = cm.linear.YlGn.scale(0, 6000)\n",
    "colores3 = cm.linear.RdGy.to_step(100).scale(0, 6000)\n",
    "\n",
    "\n",
    "colores2"
   ]
  },
  {
   "cell_type": "code",
   "execution_count": null,
   "metadata": {
    "collapsed": false,
    "deletable": true,
    "editable": true
   },
   "outputs": [],
   "source": [
    "linesMap = folium.Map(location=[latPromedio, longPromedio], tiles = \"Stamen Terrain\")\n",
    "linesMap.add_child(colores3)"
   ]
  },
  {
   "cell_type": "code",
   "execution_count": null,
   "metadata": {
    "collapsed": false,
    "deletable": true,
    "editable": true
   },
   "outputs": [],
   "source": [
    "clusterDeUbicaciones = folium.MarkerCluster().add_to(linesMap)\n",
    "for lat, lon, nombre in zip(dfEstaciones.lat, dfEstaciones.long, dfEstaciones.name):\n",
    "    folium.Marker(location=[lat,lon], popup=nombre).add_to(clusterDeUbicaciones)"
   ]
  },
  {
   "cell_type": "code",
   "execution_count": null,
   "metadata": {
    "collapsed": false,
    "deletable": true,
    "editable": true
   },
   "outputs": [],
   "source": [
    "for startLat, startLon, startName, endLat, endLon, endName, cant in zip(dfViajesEntreEstaciones.start_station_lat,\\\n",
    "                                                                       dfViajesEntreEstaciones.start_station_long,\\\n",
    "                                                                       dfViajesEntreEstaciones.start_station_name,\\\n",
    "                                                                       dfViajesEntreEstaciones.end_station_lat,\\\n",
    "                                                                       dfViajesEntreEstaciones.end_station_long,\\\n",
    "                                                                       dfViajesEntreEstaciones.end_station_name,\\\n",
    "                                                                       dfViajesEntreEstaciones.cantidad):\n",
    "    folium.PolyLine(locations=[(startLat, startLon), (endLat, endLon)], color=colores3(cant), weight=3, opacity=0.001).add_to(linesMap)\n",
    "#     linesMap.add_child(c)\n",
    "    \n",
    "# startStationMap.add_child(grupoDeViajesEntreEstaciones)\n",
    "linesMap"
   ]
  },
  {
   "cell_type": "code",
   "execution_count": null,
   "metadata": {
    "collapsed": false,
    "deletable": true,
    "editable": true
   },
   "outputs": [],
   "source": [
    "lat = +38.89399\n",
    "lon = -77.03659\n",
    "zoom_start = 17\n",
    "\n",
    "m = folium.Map(location=[lat, lon], zoom_start=zoom_start)\n",
    "\n",
    "kw = dict(fill_color='red', radius=20)\n",
    "c0 = folium.CircleMarker([38.89415, -77.03738], **kw)\n",
    "c1 = folium.CircleMarker([38.89415, -77.03578], **kw)\n",
    "\n",
    "\n",
    "locations = [[(38.893596444352134, -77.03814983367920), (38.893379333722040, -77.03792452812195)],\n",
    "             [(38.893379333722040, -77.03792452812195), (38.893162222428310, -77.03761339187622)],\n",
    "             [(38.893162222428310, -77.03761339187622), (38.893028615148424, -77.03731298446655)],\n",
    "             [(38.893028615148424, -77.03731298446655), (38.892920059048464, -77.03691601753235)],\n",
    "             [(38.892920059048464, -77.03691601753235), (38.892903358095296, -77.03637957572937)],\n",
    "             [(38.892903358095296, -77.03637957572937), (38.893011914220770, -77.03592896461487)],\n",
    "             [(38.893011914220770, -77.03592896461487), (38.893162222428310, -77.03549981117249)],\n",
    "             [(38.893162222428310, -77.03549981117249), (38.893404384982480, -77.03514575958252)],\n",
    "             [(38.893404384982480, -77.03514575958252), (38.893596444352134, -77.03496336936950)]]\n",
    "\n",
    "c3 = folium.PolyLine(locations=locations, color='orange', weight=30, opacity=1)\n",
    "\n",
    "for c in [c0, c1, c3]:\n",
    "    m.add_child(c)\n",
    "\n",
    "m"
   ]
  }
 ],
 "metadata": {
  "kernelspec": {
   "display_name": "Python 2",
   "language": "python",
   "name": "python2"
  },
  "language_info": {
   "codemirror_mode": {
    "name": "ipython",
    "version": 2
   },
   "file_extension": ".py",
   "mimetype": "text/x-python",
   "name": "python",
   "nbconvert_exporter": "python",
   "pygments_lexer": "ipython2",
   "version": "2.7.12"
  }
 },
 "nbformat": 4,
 "nbformat_minor": 2
}
