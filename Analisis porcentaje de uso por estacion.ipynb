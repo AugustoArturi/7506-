{
 "cells": [
  {
   "cell_type": "code",
   "execution_count": null,
   "metadata": {
    "collapsed": true,
    "deletable": true,
    "editable": true
   },
   "outputs": [],
   "source": [
    "import pandas as pd"
   ]
  },
  {
   "cell_type": "code",
   "execution_count": null,
   "metadata": {
    "collapsed": true,
    "deletable": true,
    "editable": true
   },
   "outputs": [],
   "source": [
    "dfEstaciones = pd.read_csv('../CSVs/station.csv', thousands=',', low_memory=False)"
   ]
  },
  {
   "cell_type": "code",
   "execution_count": null,
   "metadata": {
    "collapsed": true,
    "deletable": true,
    "editable": true
   },
   "outputs": [],
   "source": [
    "dfTableID_DocksAvailable = pd.read_csv('../CSVs/tabla_id_dockAvailable.csv')"
   ]
  },
  {
   "cell_type": "code",
   "execution_count": null,
   "metadata": {
    "collapsed": false,
    "deletable": true,
    "editable": true
   },
   "outputs": [],
   "source": [
    "dfTableID_DocksAvailable.head()"
   ]
  },
  {
   "cell_type": "code",
   "execution_count": null,
   "metadata": {
    "collapsed": false,
    "deletable": true,
    "editable": true
   },
   "outputs": [],
   "source": [
    "dfEstaciones.head()"
   ]
  },
  {
   "cell_type": "code",
   "execution_count": null,
   "metadata": {
    "collapsed": false,
    "deletable": true,
    "editable": true
   },
   "outputs": [],
   "source": [
    "dfMerged = dfEstaciones.merge(dfTableID_DocksAvailable, left_on='id', right_on='station_id').drop('station_id', 1)"
   ]
  },
  {
   "cell_type": "code",
   "execution_count": null,
   "metadata": {
    "collapsed": false,
    "deletable": true,
    "editable": true
   },
   "outputs": [],
   "source": [
    "dfMerged"
   ]
  },
  {
   "cell_type": "code",
   "execution_count": null,
   "metadata": {
    "collapsed": false,
    "deletable": true,
    "editable": true,
    "scrolled": true
   },
   "outputs": [],
   "source": [
    "dfMerged = dfMerged.rename(columns={'docks_available': 'mean_of_docks_available'})"
   ]
  },
  {
   "cell_type": "code",
   "execution_count": null,
   "metadata": {
    "collapsed": false,
    "deletable": true,
    "editable": true,
    "scrolled": true
   },
   "outputs": [],
   "source": [
    "dfMerged"
   ]
  },
  {
   "cell_type": "code",
   "execution_count": null,
   "metadata": {
    "collapsed": false,
    "deletable": true,
    "editable": true
   },
   "outputs": [],
   "source": [
    "dfMerged['%_of_docks_usage'] = dfMerged.mean_of_docks_available/dfMerged.dock_count"
   ]
  },
  {
   "cell_type": "code",
   "execution_count": null,
   "metadata": {
    "collapsed": false,
    "deletable": true,
    "editable": true
   },
   "outputs": [],
   "source": [
    "dfMerged"
   ]
  },
  {
   "cell_type": "code",
   "execution_count": null,
   "metadata": {
    "collapsed": true,
    "deletable": true,
    "editable": true
   },
   "outputs": [],
   "source": [
    "dfMerged.to_csv('../CSVs//usagePercentagePerStation.csv')"
   ]
  },
  {
   "cell_type": "markdown",
   "metadata": {
    "deletable": true,
    "editable": true
   },
   "source": [
    "# Code below son restos de los intentos pre-Turi-Ilumination"
   ]
  },
  {
   "cell_type": "markdown",
   "metadata": {
    "deletable": true,
    "editable": true
   },
   "source": [
    "## Lo dejo porque tampoco esta taaaan mal lo planteado"
   ]
  },
  {
   "cell_type": "code",
   "execution_count": null,
   "metadata": {
    "collapsed": false,
    "deletable": true,
    "editable": true
   },
   "outputs": [],
   "source": [
    "# chunksize = 10 ** 2\n",
    "# dfEstado = pd.read_csv('../CSVs/status.csv', chunksize=chunksize, iterator=True, usecols=[0, 2])"
   ]
  },
  {
   "cell_type": "code",
   "execution_count": null,
   "metadata": {
    "collapsed": true,
    "deletable": true,
    "editable": true
   },
   "outputs": [],
   "source": [
    "# totalRows = 71984434\n",
    "# rowsPerChunk = 3599222     #con este nro obtenemos 20 chunks\n",
    "# dfEstado1 = dfEstado.get_chunk(rowsPerChunk)\n",
    "# dfEstado2 = dfEstado.get_chunk(rowsPerChunk)\n",
    "# dfEstado3 = dfEstado.get_chunk(rowsPerChunk)\n",
    "# dfEstado4 = dfEstado.get_chunk(rowsPerChunk)\n",
    "# dfEstado5 = dfEstado.get_chunk(rowsPerChunk)\n",
    "# dfEstado6 = dfEstado.get_chunk(rowsPerChunk)\n",
    "# dfEstado7 = dfEstado.get_chunk(rowsPerChunk)\n",
    "# dfEstado8 = dfEstado.get_chunk(rowsPerChunk)\n",
    "# dfEstado9 = dfEstado.get_chunk(rowsPerChunk)\n",
    "# dfEstado10 = dfEstado.get_chunk(rowsPerChunk)"
   ]
  },
  {
   "cell_type": "code",
   "execution_count": null,
   "metadata": {
    "collapsed": false,
    "deletable": true,
    "editable": true
   },
   "outputs": [],
   "source": [
    "# dfEstado11 = dfEstado.get_chunk(rowsPerChunk)\n",
    "# dfEstado12 = dfEstado.get_chunk(rowsPerChunk)\n",
    "# dfEstado13 = dfEstado.get_chunk(rowsPerChunk)\n",
    "# dfEstado14 = dfEstado.get_chunk(rowsPerChunk)\n",
    "# dfEstado15 = dfEstado.get_chunk(rowsPerChunk)\n",
    "# dfEstado16 = dfEstado.get_chunk(rowsPerChunk)\n",
    "# dfEstado17 = dfEstado.get_chunk(rowsPerChunk)\n",
    "# dfEstado18 = dfEstado.get_chunk(rowsPerChunk)\n",
    "# dfEstado19 = dfEstado.get_chunk(rowsPerChunk)\n",
    "# dfEstado20 = dfEstado.get_chunk(rowsPerChunk)"
   ]
  },
  {
   "cell_type": "code",
   "execution_count": null,
   "metadata": {
    "collapsed": false,
    "deletable": true,
    "editable": true
   },
   "outputs": [],
   "source": [
    "# dfNew = (dfEstado1.groupby(by='station_id')).docks_available.mean()"
   ]
  },
  {
   "cell_type": "code",
   "execution_count": null,
   "metadata": {
    "collapsed": true,
    "deletable": true,
    "editable": true
   },
   "outputs": [],
   "source": [
    "# chunks = [dfEstado1, \n",
    "#          dfEstado2, \n",
    "#          dfEstado3, \n",
    "#          dfEstado4, \n",
    "#          dfEstado5, \n",
    "#          dfEstado6, \n",
    "#          dfEstado7, \n",
    "#          dfEstado8, \n",
    "#          dfEstado9, \n",
    "#          dfEstado10, \n",
    "#          dfEstado11, \n",
    "#          dfEstado12, \n",
    "#          dfEstado13, \n",
    "#          dfEstado14, \n",
    "#          dfEstado15, \n",
    "#          dfEstado16, \n",
    "#          dfEstado17, \n",
    "#          dfEstado18, \n",
    "#          dfEstado19, \n",
    "#          dfEstado20]"
   ]
  },
  {
   "cell_type": "code",
   "execution_count": null,
   "metadata": {
    "collapsed": false,
    "deletable": true,
    "editable": true,
    "scrolled": false
   },
   "outputs": [],
   "source": [
    "# for chunk in chunks:\n",
    "#     print((chunk.groupby(by='station_id')).docks_available.sum())"
   ]
  },
  {
   "cell_type": "code",
   "execution_count": null,
   "metadata": {
    "collapsed": false,
    "deletable": true,
    "editable": true
   },
   "outputs": [],
   "source": [
    "# (dfEstado1.groupby(by='station_id')).docks_available.sum()"
   ]
  },
  {
   "cell_type": "code",
   "execution_count": null,
   "metadata": {
    "collapsed": false,
    "deletable": true,
    "editable": true
   },
   "outputs": [],
   "source": [
    "# for chunk in dfEstado:\n",
    "#     for i in range(3):\n",
    "#         print (chunk)\n",
    "#         continue\n",
    "#     break"
   ]
  }
 ],
 "metadata": {
  "kernelspec": {
   "display_name": "Python 2",
   "language": "python",
   "name": "python2"
  },
  "language_info": {
   "codemirror_mode": {
    "name": "ipython",
    "version": 2
   },
   "file_extension": ".py",
   "mimetype": "text/x-python",
   "name": "python",
   "nbconvert_exporter": "python",
   "pygments_lexer": "ipython2",
   "version": "2.7.12"
  }
 },
 "nbformat": 4,
 "nbformat_minor": 2
}
