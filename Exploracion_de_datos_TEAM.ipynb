{
 "cells": [
  {
   "cell_type": "code",
   "execution_count": null,
   "metadata": {
    "collapsed": false,
    "deletable": true,
    "editable": true
   },
   "outputs": [],
   "source": [
    "\n",
    "import pandas as pd\n",
    "import numpy as np\n",
    "from scipy.stats.stats import pearsonr  \n",
    "from pandas.tseries.holiday import USFederalHolidayCalendar\n",
    "from pandas.tseries.offsets import CustomBusinessDay\n",
    "from datetime import datetime\n",
    "import plotly.plotly as py\n",
    "import matplotlib.pyplot as plt\n",
    "import json\n",
    "import branca.colormap as cm\n",
    "import folium\n",
    "import seaborn as sns\n"
   ]
  },
  {
   "cell_type": "markdown",
   "metadata": {
    "deletable": true,
    "editable": true
   },
   "source": [
    "## Carga de CSVs"
   ]
  },
  {
   "cell_type": "markdown",
   "metadata": {},
   "source": [
    "## A continuacion se realiza la carga de archivos a los dataframe correspondientes."
   ]
  },
  {
   "cell_type": "code",
   "execution_count": null,
   "metadata": {
    "collapsed": false,
    "deletable": true,
    "editable": true
   },
   "outputs": [],
   "source": [
    "dfEstaciones =pd.read_csv('../CSVs/station.csv', thousands=',', low_memory=False)\n",
    "dfClima=pd.read_csv('../CSVs/weather.csv', thousands=',', low_memory=False)\n",
    "dfViajes = pd.read_csv('../CSVs/trip.csv', thousands=',', low_memory=False)\n",
    "#Df creado por nuestro grupo con la informacion que queriamos analizar de Status.csv\n",
    "dfTableID_DocksAvailable = pd.read_csv('../CSVs/tabla_id_dockAvailable.csv')"
   ]
  },
  {
   "cell_type": "markdown",
   "metadata": {
    "deletable": true,
    "editable": true
   },
   "source": [
    "   # Filtrado de dfEstaciones"
   ]
  },
  {
   "cell_type": "markdown",
   "metadata": {},
   "source": [
    "## El objetivo es simplemente ver la estructura del dataframe y saber que informacion nos puede brindar."
   ]
  },
  {
   "cell_type": "code",
   "execution_count": null,
   "metadata": {
    "collapsed": false,
    "deletable": true,
    "editable": true
   },
   "outputs": [],
   "source": [
    "print (dfEstaciones.shape) "
   ]
  },
  {
   "cell_type": "code",
   "execution_count": null,
   "metadata": {
    "collapsed": false,
    "deletable": true,
    "editable": true,
    "scrolled": true
   },
   "outputs": [],
   "source": [
    "dfEstaciones"
   ]
  },
  {
   "cell_type": "code",
   "execution_count": null,
   "metadata": {
    "collapsed": false
   },
   "outputs": [],
   "source": [
    "dfEstaciones.dtypes"
   ]
  },
  {
   "cell_type": "code",
   "execution_count": null,
   "metadata": {
    "collapsed": false,
    "deletable": true,
    "editable": true
   },
   "outputs": [],
   "source": [
    "# No tenemos nullos\n",
    "dfEstaciones.isnull().sum()"
   ]
  },
  {
   "cell_type": "code",
   "execution_count": null,
   "metadata": {
    "collapsed": false,
    "deletable": true,
    "editable": true,
    "scrolled": true
   },
   "outputs": [],
   "source": [
    "#Pasamos el campo installation_date al tipo datetime\n",
    "dfEstaciones.installation_date = pd.to_datetime(dfEstaciones.installation_date, format = \"%m/%d/%Y\").dt.date\n",
    "\n",
    "#Probamos si funciona correctamente\n",
    "print (dfEstaciones.installation_date.min())\n",
    "print (dfEstaciones.installation_date.max())"
   ]
  },
  {
   "cell_type": "markdown",
   "metadata": {},
   "source": [
    "# Filtrado de df Status.csv"
   ]
  },
  {
   "cell_type": "markdown",
   "metadata": {
    "collapsed": false
   },
   "source": [
    "## status.csv era un archivo de 2GB el cual fue reducido a una tabla con la informacion que ibamos a utilizar, esta contiene la estaciones agrupadas por ID junto con los docks_available en promedio. \n",
    "## El objetivo es obtener un porcentaje, el cual represanta la utilidad de esa estacion, es decir que tanto se utilizan sus docks en relacion a los disponibles."
   ]
  },
  {
   "cell_type": "code",
   "execution_count": null,
   "metadata": {
    "collapsed": false
   },
   "outputs": [],
   "source": [
    "dfTableID_DocksAvailable.head()"
   ]
  },
  {
   "cell_type": "code",
   "execution_count": null,
   "metadata": {
    "collapsed": false
   },
   "outputs": [],
   "source": [
    "dfEstaciones.head()"
   ]
  },
  {
   "cell_type": "code",
   "execution_count": null,
   "metadata": {
    "collapsed": false
   },
   "outputs": [],
   "source": [
    "#Realizamos merge de dataframe 'dfEstaciones' con 'dfTableID_DocksAvailable' por ID de estacion\n",
    "dfusagePercentagePerStation = dfEstaciones.merge(dfTableID_DocksAvailable, left_on='id', right_on='station_id').drop('station_id', 1)\n",
    "dfusagePercentagePerStation"
   ]
  },
  {
   "cell_type": "code",
   "execution_count": null,
   "metadata": {
    "collapsed": false
   },
   "outputs": [],
   "source": [
    "#Le damos un nombre mas significado al feature\n",
    "dfusagePercentagePerStation = dfusagePercentagePerStation.rename(columns={'docks_available': 'mean_of_docks_available'})\n",
    "dfusagePercentagePerStation"
   ]
  },
  {
   "cell_type": "code",
   "execution_count": null,
   "metadata": {
    "collapsed": false
   },
   "outputs": [],
   "source": [
    "#Obtenemos el porcentaje de utilidad de cada estacion\n",
    "dfusagePercentagePerStation['docks_usage_percentage'] = dfusagePercentagePerStation.mean_of_docks_available/dfusagePercentagePerStation.dock_count\n",
    "dfusagePercentagePerStation"
   ]
  },
  {
   "cell_type": "code",
   "execution_count": null,
   "metadata": {
    "collapsed": true
   },
   "outputs": [],
   "source": [
    "dfusagePercentagePerStation.to_csv('../CSVs//usagePercentagePerStation.csv')"
   ]
  },
  {
   "cell_type": "code",
   "execution_count": null,
   "metadata": {
    "collapsed": false
   },
   "outputs": [],
   "source": [
    "dfusagePercentagePerStation.installation_date = pd.to_datetime(dfusagePercentagePerStation.installation_date, format = \"%Y/%m/%d\")\n"
   ]
  },
  {
   "cell_type": "markdown",
   "metadata": {
    "deletable": true,
    "editable": true
   },
   "source": [
    "# Filtrado de dfClima\n",
    "## El objetivo es simplemente ver la estructura del dataframe y saber que informacion nos puede brindar."
   ]
  },
  {
   "cell_type": "code",
   "execution_count": null,
   "metadata": {
    "collapsed": false,
    "deletable": true,
    "editable": true
   },
   "outputs": [],
   "source": [
    "dfClima"
   ]
  },
  {
   "cell_type": "code",
   "execution_count": null,
   "metadata": {
    "collapsed": false
   },
   "outputs": [],
   "source": [
    "dfClima.shape"
   ]
  },
  {
   "cell_type": "code",
   "execution_count": null,
   "metadata": {
    "collapsed": false,
    "deletable": true,
    "editable": true
   },
   "outputs": [],
   "source": [
    "#Vemos que contiene muchos nulos\n",
    "dfClima.isnull().sum()"
   ]
  },
  {
   "cell_type": "code",
   "execution_count": null,
   "metadata": {
    "collapsed": false,
    "deletable": true,
    "editable": true
   },
   "outputs": [],
   "source": [
    "#Pasamos a datetime\n",
    "dfClima.date = pd.to_datetime(dfClima.date, format='%m/%d/%Y')"
   ]
  },
  {
   "cell_type": "code",
   "execution_count": null,
   "metadata": {
    "collapsed": false,
    "deletable": true,
    "editable": true
   },
   "outputs": [],
   "source": [
    "dfClima.head(10)"
   ]
  },
  {
   "cell_type": "code",
   "execution_count": null,
   "metadata": {
    "collapsed": false,
    "deletable": true,
    "editable": true
   },
   "outputs": [],
   "source": [
    "dfClima.events.unique()"
   ]
  },
  {
   "cell_type": "code",
   "execution_count": null,
   "metadata": {
    "collapsed": false,
    "deletable": true,
    "editable": true
   },
   "outputs": [],
   "source": [
    "#Limpio los datos bugeados, tenemos mucha informacion nula, la cual decidimos pasar a Normal\n",
    "#Tambien corregi\n",
    "dfClima.loc[dfClima.events == 'rain', 'events'] = \"Rain\"\n",
    "dfClima.loc[dfClima.events.isnull(), 'events'] = \"Normal\""
   ]
  },
  {
   "cell_type": "code",
   "execution_count": null,
   "metadata": {
    "collapsed": false,
    "deletable": true,
    "editable": true
   },
   "outputs": [],
   "source": [
    "# EL zip_code es el codigo postal para las 5 ciudades de la bahia\n",
    "dfClima.zip_code.unique()"
   ]
  },
  {
   "cell_type": "code",
   "execution_count": null,
   "metadata": {
    "collapsed": false,
    "deletable": true,
    "editable": true
   },
   "outputs": [],
   "source": [
    "# Vemos cual de estos zip code tiene menos nulos\n",
    "for zc in dfClima.zip_code.unique():\n",
    "    print (dfClima[dfClima.zip_code == zc].isnull().sum())\n",
    "    print ()"
   ]
  },
  {
   "cell_type": "code",
   "execution_count": null,
   "metadata": {
    "collapsed": false,
    "deletable": true,
    "editable": true
   },
   "outputs": [],
   "source": [
    "#Trabajamos con el zip_code == 94107, es el mas 'limpio' de nulos, dada la cercania de todas las ciudades \n",
    "#la informacion no puede ser muy cambiante entre estas, por lo cual consideramos valido filtrar por una en particular.\n",
    "dfClimaLimpio = dfClima[dfClima.zip_code == 94107]\n",
    "dfClimaLimpio.shape"
   ]
  },
  {
   "cell_type": "code",
   "execution_count": null,
   "metadata": {
    "collapsed": false,
    "deletable": true,
    "editable": true,
    "scrolled": true
   },
   "outputs": [],
   "source": [
    "dfClimaLimpio.events"
   ]
  },
  {
   "cell_type": "code",
   "execution_count": null,
   "metadata": {
    "collapsed": false,
    "deletable": true,
    "editable": true
   },
   "outputs": [],
   "source": [
    "#Transformamos el feature events, en un nuevo dataframe el cual añadiremos a dfClimaLimpio\n",
    "events = pd.get_dummies(dfClimaLimpio.events)\n",
    "events"
   ]
  },
  {
   "cell_type": "code",
   "execution_count": null,
   "metadata": {
    "collapsed": false,
    "deletable": true,
    "editable": true
   },
   "outputs": [],
   "source": [
    "#Mergeo los 2 data frames, eventos con dfClimaLimpio\n",
    "dfClimaLimpio = dfClimaLimpio.merge(events, left_index = True, right_index = True)\n",
    "#Saco los features que no voy a usar\n",
    "dfClimaLimpio = dfClimaLimpio.drop(['events','zip_code'],1)"
   ]
  },
  {
   "cell_type": "code",
   "execution_count": null,
   "metadata": {
    "collapsed": false,
    "deletable": true,
    "editable": true
   },
   "outputs": [],
   "source": [
    "#Todavia tenemos nulos\n",
    "dfClimaLimpio.isnull().sum()"
   ]
  },
  {
   "cell_type": "code",
   "execution_count": null,
   "metadata": {
    "collapsed": false,
    "deletable": true,
    "editable": true
   },
   "outputs": [],
   "source": [
    "#El campo max_gust_speed_mph no esta limpio todavia, lo trabajo\n",
    "#Para cada valor de max_wind, busco la media de max_gust y la uso para rellenar los nulos.\n",
    "dfClimaLimpio.loc[dfClimaLimpio.max_gust_speed_mph.isnull(), 'max_gust_speed_mph'] = \\\n",
    "                                dfClimaLimpio.groupby('max_wind_Speed_mph').\\\n",
    "                                max_gust_speed_mph.apply(lambda x: x.fillna(x.median()))"
   ]
  },
  {
   "cell_type": "code",
   "execution_count": null,
   "metadata": {
    "collapsed": false,
    "deletable": true,
    "editable": true
   },
   "outputs": [],
   "source": [
    "# Listo para usar\n",
    "dfClimaLimpio.isnull().sum()"
   ]
  },
  {
   "cell_type": "code",
   "execution_count": null,
   "metadata": {
    "collapsed": false,
    "deletable": true,
    "editable": true,
    "scrolled": false
   },
   "outputs": [],
   "source": [
    "# el campo precipitation_inches lo deseamos de tipo numerico\n",
    "dfClimaLimpio.dtypes"
   ]
  },
  {
   "cell_type": "code",
   "execution_count": null,
   "metadata": {
    "collapsed": false,
    "deletable": true,
    "editable": true,
    "scrolled": true
   },
   "outputs": [],
   "source": [
    "dfClimaLimpio.precipitation_inches\n"
   ]
  },
  {
   "cell_type": "code",
   "execution_count": null,
   "metadata": {
    "collapsed": false,
    "deletable": true,
    "editable": true
   },
   "outputs": [],
   "source": [
    "#Cambio el feature de string a numeric, los valores que son 'T' los cambio por NAN\n",
    "dfClimaLimpio.precipitation_inches = pd.to_numeric(dfClimaLimpio.precipitation_inches, errors = 'coerce')"
   ]
  },
  {
   "cell_type": "code",
   "execution_count": null,
   "metadata": {
    "collapsed": false,
    "deletable": true,
    "editable": true
   },
   "outputs": [],
   "source": [
    "#Change null values to the median, of values > 0, because T, I think, means True. \n",
    "#Therefore we want to find the median amount of precipitation on days when it rained.\n",
    "dfClimaLimpio.loc[dfClimaLimpio.precipitation_inches.isnull(), 'precipitation_inches'] = \\\n",
    "dfClimaLimpio[dfClimaLimpio.precipitation_inches.notnull()].precipitation_inches.median()"
   ]
  },
  {
   "cell_type": "markdown",
   "metadata": {},
   "source": [
    "## Cambiamos unidades norteamericanas por unidades mks"
   ]
  },
  {
   "cell_type": "code",
   "execution_count": null,
   "metadata": {
    "collapsed": true
   },
   "outputs": [],
   "source": [
    "# Cambiamos nombre de features\n",
    "dfClimaLimpio=dfClimaLimpio.rename(columns={'max_temperature_f':'max_temperature_c', 'mean_temperature_f':'mean_temperature_c',\\\n",
    "            'max_dew_point_f':'max_dew_point_c','min_temperature_f':'min_temperature_c',\\\n",
    "            'mean_dew_point_f':'mean_dew_point_c','min_dew_point_f':'min_dew_point_c',\\\n",
    "            'max_sea_level_pressure_inches':'max_sea_level_pressure_cm','mean_sea_level_pressure_inches':'mean_sea_level_pressure_cm', \\\n",
    "            'min_sea_level_pressure_inches':'min_sea_level_pressure_cm','precipitation_inches':'precipitation_cm', \\\n",
    "            'max_visibility_miles':'max_visibility_km','mean_visibility_miles':'mean_visibility_km', \\\n",
    "            'min_visibility_miles':'min_visibility_km','max_wind_Speed_mph':'max_wind_Speed_kmh',\\\n",
    "            'mean_wind_speed_mph':'mean_wind_speed_kmh','max_gust_speed_mph':'max_gust_speed_kmh'})"
   ]
  },
  {
   "cell_type": "code",
   "execution_count": null,
   "metadata": {
    "collapsed": false
   },
   "outputs": [],
   "source": [
    "#Aplicamos las funciones para el cambio de unidades\n",
    "def farToCelsius(x):\n",
    "    x = (x - 32 )/ 1.8\n",
    "    return float(x)\n",
    "\n",
    "def pulgToCm(x):\n",
    "    x = x * 2.54\n",
    "    return float(x)\n",
    "def milesToKm (x):\n",
    "    x = x* 1.60934\n",
    "    return float(x)\n",
    "\n",
    "dfClimaLimpio.max_temperature_c = dfClimaLimpio.max_temperature_c.apply(farToCelsius)\n",
    "dfClimaLimpio.mean_temperature_c = dfClimaLimpio.mean_temperature_c.apply(farToCelsius)\n",
    "dfClimaLimpio.min_temperature_c =dfClimaLimpio.min_temperature_c.apply(farToCelsius)\n",
    "dfClimaLimpio.max_dew_point_c = dfClimaLimpio.max_dew_point_c.apply(farToCelsius)\n",
    "dfClimaLimpio.mean_dew_point_c = dfClimaLimpio.mean_dew_point_c.apply(farToCelsius)\n",
    "dfClimaLimpio.min_dew_point_c = dfClimaLimpio.min_dew_point_c.apply(farToCelsius)\n",
    "dfClimaLimpio.max_sea_level_pressure_cm = dfClimaLimpio.max_sea_level_pressure_cm.apply(pulgToCm)\n",
    "dfClimaLimpio.mean_sea_level_pressure_cm= dfClimaLimpio.mean_sea_level_pressure_cm.apply(pulgToCm)\n",
    "dfClimaLimpio.min_sea_level_pressure_cm = dfClimaLimpio.min_sea_level_pressure_cm.apply(pulgToCm)\n",
    "dfClimaLimpio.precipitation_cm = dfClimaLimpio.precipitation_cm.apply(pulgToCm)\n",
    "dfClimaLimpio.max_visibility_km = dfClimaLimpio.max_visibility_km.apply(milesToKm)\n",
    "dfClimaLimpio.mean_visibility_km = dfClimaLimpio.mean_visibility_km.apply(milesToKm)\n",
    "dfClimaLimpio.min_visibility_km = dfClimaLimpio.min_visibility_km.apply(milesToKm)\n",
    "dfClimaLimpio.max_wind_Speed_kmh = dfClimaLimpio.max_wind_Speed_kmh.apply(milesToKm)\n",
    "dfClimaLimpio.mean_wind_speed_kmh = dfClimaLimpio.mean_wind_speed_kmh.apply(milesToKm)\n",
    "dfClimaLimpio.max_gust_speed_kmhh = dfClimaLimpio.max_gust_speed_kmh.apply(milesToKm)\n",
    "\n",
    "\n",
    "\n",
    "dfClimaLimpio"
   ]
  },
  {
   "cell_type": "markdown",
   "metadata": {
    "deletable": true,
    "editable": true
   },
   "source": [
    "# Filtrado de dfViajes\n",
    "## El objetivo es simplemente ver la estructura del dataframe y saber que informacion nos puede brindar."
   ]
  },
  {
   "cell_type": "code",
   "execution_count": null,
   "metadata": {
    "collapsed": false,
    "deletable": true,
    "editable": true
   },
   "outputs": [],
   "source": [
    "dfViajes.isnull().sum()"
   ]
  },
  {
   "cell_type": "code",
   "execution_count": null,
   "metadata": {
    "collapsed": false,
    "deletable": true,
    "editable": true
   },
   "outputs": [],
   "source": [
    "# El tamaño es manejable\n",
    "dfViajes.shape"
   ]
  },
  {
   "cell_type": "code",
   "execution_count": null,
   "metadata": {
    "collapsed": false,
    "deletable": true,
    "editable": true
   },
   "outputs": [],
   "source": [
    "dfViajes"
   ]
  },
  {
   "cell_type": "code",
   "execution_count": null,
   "metadata": {
    "collapsed": false,
    "deletable": true,
    "editable": true
   },
   "outputs": [],
   "source": [
    "#Duracion de todos los viajes\n",
    "dfViajes.duration.describe()"
   ]
  },
  {
   "cell_type": "code",
   "execution_count": null,
   "metadata": {
    "collapsed": false,
    "deletable": true,
    "editable": true,
    "scrolled": true
   },
   "outputs": [],
   "source": [
    "# Lo paso a minutos y el promedio de viaje\n",
    "dfViajes.duration /=60"
   ]
  },
  {
   "cell_type": "code",
   "execution_count": null,
   "metadata": {
    "collapsed": false,
    "deletable": true,
    "editable": true
   },
   "outputs": [],
   "source": [
    "dfViajes.duration.describe()"
   ]
  },
  {
   "cell_type": "markdown",
   "metadata": {
    "deletable": true,
    "editable": true
   },
   "source": [
    "Cantidad de viajes: 669959"
   ]
  },
  {
   "cell_type": "code",
   "execution_count": null,
   "metadata": {
    "collapsed": false,
    "deletable": true,
    "editable": true,
    "scrolled": false
   },
   "outputs": [],
   "source": [
    "dfViajes.dtypes"
   ]
  },
  {
   "cell_type": "code",
   "execution_count": null,
   "metadata": {
    "collapsed": true
   },
   "outputs": [],
   "source": [
    "#Transformar de Object a DateTime\n",
    "#El Date Time almacena YYYY-mm-dd\n",
    "dfViajes.start_date = pd.to_datetime(dfViajes.start_date,format = '%m/%d/%Y %H:%M')\n",
    "dfViajes.end_date = pd.to_datetime(dfViajes.end_date,format = '%m/%d/%Y %H:%M')"
   ]
  },
  {
   "cell_type": "code",
   "execution_count": null,
   "metadata": {
    "collapsed": true
   },
   "outputs": [],
   "source": [
    "dfViajes2 = dfViajes"
   ]
  },
  {
   "cell_type": "markdown",
   "metadata": {},
   "source": [
    "# A partir de aqui comienza el analisis exploratorio de la informacion filtrada anteriormente."
   ]
  },
  {
   "cell_type": "markdown",
   "metadata": {},
   "source": [
    "## Objetivos: Analizar la distribucion de viajes en cada estacion, que tan usadas son las estaciones tanto de salida como de llegada. Observar la cantidad de viajes totales en cada hora del dia para saber cual es el horario donde mas usuarios usan las bicicletas. Duracion de los viajes en los distintos meses del año, "
   ]
  },
  {
   "cell_type": "code",
   "execution_count": null,
   "metadata": {
    "collapsed": true
   },
   "outputs": [],
   "source": [
    "plt.style.use('default') # Make the graphs a bit prettier\n",
    "plt.rcParams['figure.figsize'] = (15, 5)"
   ]
  },
  {
   "cell_type": "code",
   "execution_count": null,
   "metadata": {
    "collapsed": false
   },
   "outputs": [],
   "source": [
    "#Primera vision para ver cuales de las estaciones fueron las mas usadas para la salida\n",
    "#Podemos contar la cantidad de viajes solicitados en la Estacion mediante los datos del ID.\n",
    "grupoStartStation = dfViajes.groupby(dfViajes['start_station_name']).count()\n",
    "grupoStartStation.sort_values(by='id',ascending = False)"
   ]
  },
  {
   "cell_type": "code",
   "execution_count": null,
   "metadata": {
    "collapsed": false
   },
   "outputs": [],
   "source": [
    "#Primera vision para ver cuales de las estaciones fueron las mas usadas para la llegada\n",
    "#Podemos contar la cantidad de viajes solicitados en la Estacion mediante los datos del ID.\n",
    "grupoStartStation = dfViajes.groupby(dfViajes['end_station_name']).count()\n",
    "grupoStartStation.sort_values(by='id',ascending = False)"
   ]
  },
  {
   "cell_type": "code",
   "execution_count": null,
   "metadata": {
    "collapsed": false
   },
   "outputs": [],
   "source": [
    "#23981 estaciones fueron simultaneamente estaciones de LLegada y Salida. \n",
    "#La mayoria de las estaciones fueron unicamente de Llegada o Salida\n",
    "grupoEstacionesIguales = dfViajes[(dfViajes['start_station_name'] == (dfViajes['end_station_name']))]\n",
    "grupoEstacionesIguales"
   ]
  },
  {
   "cell_type": "code",
   "execution_count": null,
   "metadata": {
    "collapsed": false
   },
   "outputs": [],
   "source": [
    "#Para los Viajes donde sus estaciones de llegada y salida son diferentes, estas son las estaciones de salida mas usadas.\n",
    "grupoViajesDeEstacionesDiferentes = dfViajes[(dfViajes['start_station_name'] != (dfViajes['end_station_name']))]\n",
    "ordenado = grupoViajesDeEstacionesDiferentes.groupby(dfViajes['start_station_name']).count().sort_values(by='id',ascending = False)\n",
    "ordenado"
   ]
  },
  {
   "cell_type": "code",
   "execution_count": null,
   "metadata": {
    "collapsed": false
   },
   "outputs": [],
   "source": [
    "#Para los Viajes donde sus estaciones de llegada y salida son iguales, estas son las estaciones de salida mas usadas.\n",
    "grupoViajesDeEstacionesIguales = dfViajes[(dfViajes['start_station_name'] == (dfViajes['end_station_name']))]\n",
    "ordenado = grupoViajesDeEstacionesIguales.groupby(dfViajes['start_station_name']).count().sort_values(by='id',ascending = False)\n",
    "ordenado"
   ]
  },
  {
   "cell_type": "code",
   "execution_count": null,
   "metadata": {
    "collapsed": false
   },
   "outputs": [],
   "source": [
    "#Estaciones de salida.Franja Horaria Desde las 06 hasta las 12\n",
    "grupoSalidaManiana = dfViajes[(dfViajes.start_date.dt.hour >= 6 )&(dfViajes.start_date.dt.hour < 12)]\n",
    "grupoSalidaManiana"
   ]
  },
  {
   "cell_type": "code",
   "execution_count": null,
   "metadata": {
    "collapsed": false
   },
   "outputs": [],
   "source": [
    "#Agrupo por Estacion y cuento la cantidad de ID de viaje en el grupo para saber cuantas veces fue usada una estacion salida\n",
    "salida1 = grupoSalidaManiana.groupby(grupoSalidaManiana['start_station_name']).count().sort_values(by='id',ascending = False).id\n",
    "plt.title('Cantidad de salidas desde 06:00hs a 12:00hs')\n",
    "plt.ylabel('numero de salidas')\n",
    "plt.xlabel('estacion de salida')\n",
    "salida1.head(5).plot(kind = 'bar')\n",
    "plt.show()"
   ]
  },
  {
   "cell_type": "code",
   "execution_count": null,
   "metadata": {
    "collapsed": false
   },
   "outputs": [],
   "source": [
    "#Estaciones de salida.Franja Horaria Desde las 12 hasta las 14\n",
    "grupoSalidaMediodia = dfViajes[(dfViajes.start_date.dt.hour >= 12 )&(dfViajes.start_date.dt.hour < 14)]\n",
    "salida2 = grupoSalidaMediodia.groupby(grupoSalidaMediodia['start_station_name']).count().sort_values(by='id',ascending = False).id\n",
    "plt.title('Cantidad de salidas desde 12:00hs a 14:00hs')\n",
    "plt.ylabel('numero de salidas')\n",
    "plt.xlabel('estacion de salida')\n",
    "salida2.head(5).plot(kind = 'bar')\n",
    "plt.show()"
   ]
  },
  {
   "cell_type": "code",
   "execution_count": null,
   "metadata": {
    "collapsed": false
   },
   "outputs": [],
   "source": [
    "#Estaciones de salida.Franja Horaria Desde las 14  hasta las 19\n",
    "grupoSalidaTarde = dfViajes[(dfViajes.start_date.dt.hour >= 14 )&(dfViajes.start_date.dt.hour < 19)]\n",
    "salida3 = grupoSalidaTarde.groupby(grupoSalidaTarde['start_station_name']).count().sort_values(by='id',ascending = False).id\n",
    "plt.title('Cantidad de salidas desde 14:00hs a 19:00hs')\n",
    "plt.ylabel('numero de salidas')\n",
    "plt.xlabel('estacion de salida')\n",
    "salida3.head(5).plot(kind = 'bar')\n",
    "plt.show()"
   ]
  },
  {
   "cell_type": "code",
   "execution_count": null,
   "metadata": {
    "collapsed": false
   },
   "outputs": [],
   "source": [
    "#Estaciones de salida.Franja Horaria Desde las 19  hasta las 00\n",
    "grupoSalidaNoche = dfViajes[(dfViajes.start_date.dt.hour >= 19)]\n",
    "salida4 = grupoSalidaNoche.groupby(grupoSalidaNoche['start_station_name']).count().sort_values(by='id',ascending = False).id\n",
    "plt.title('Cantidad de salidas desde 19:00hs a 00:00hs')\n",
    "plt.ylabel('numero de salidas')\n",
    "plt.xlabel('estacion de salida')\n",
    "salida4.head(5).plot(kind = 'bar')\n",
    "plt.show()"
   ]
  },
  {
   "cell_type": "code",
   "execution_count": null,
   "metadata": {
    "collapsed": false
   },
   "outputs": [],
   "source": [
    "#Estaciones de salida.Franja Horaria Desde las 00 hasta las 6\n",
    "grupoSalidaTrasnoche = dfViajes[(dfViajes.start_date.dt.hour < 6)]\n",
    "salida5 = grupoSalidaTrasnoche.groupby(grupoSalidaTrasnoche['start_station_name']).count().sort_values(by='id',ascending = False).id\n",
    "plt.title('Cantidad de salidas desde 00:00hs a 6:00hs')\n",
    "plt.ylabel('numero de salidas')\n",
    "plt.xlabel('estacion de salida')\n",
    "salida5.head(5).plot(kind = 'bar')\n",
    "plt.show()"
   ]
  },
  {
   "cell_type": "code",
   "execution_count": null,
   "metadata": {
    "collapsed": false
   },
   "outputs": [],
   "source": [
    "#Estaciones de llegada.Franja Horaria Desde las 06 hasta las 12\n",
    "grupoLlegadaManiana = dfViajes[(dfViajes.end_date.dt.hour >= 6 )&(dfViajes.end_date.dt.hour < 12)]\n",
    "llegada1 = grupoLlegadaManiana.groupby(grupoLlegadaManiana['end_station_name']).count().sort_values(by='id',ascending = False).id\n",
    "plt.title('Cantidad de arribos desde 06:00hs a 12:00hs')\n",
    "plt.ylabel('numero de arrivos')\n",
    "plt.xlabel('estacion de llegada')\n",
    "llegada1.head(5).plot(kind = 'bar')\n",
    "plt.show()"
   ]
  },
  {
   "cell_type": "code",
   "execution_count": null,
   "metadata": {
    "collapsed": false
   },
   "outputs": [],
   "source": [
    "#Estaciones de llegada.Franja Horaria Desde las 12 hasta las 14\n",
    "grupoLlegadaMediodia = dfViajes[(dfViajes.end_date.dt.hour >= 12 )&(dfViajes.end_date.dt.hour < 14)]\n",
    "llegada2 = grupoLlegadaMediodia.groupby(grupoLlegadaMediodia['end_station_name']).count().sort_values(by='id',ascending = False).id\n",
    "plt.title('Cantidad de arribos desde 12:00hs a 14:00hs')\n",
    "plt.ylabel('numero de arrivos')\n",
    "plt.xlabel('estacion de llegada')\n",
    "llegada2.head(5).plot(kind = 'bar')\n",
    "plt.show()"
   ]
  },
  {
   "cell_type": "code",
   "execution_count": null,
   "metadata": {
    "collapsed": false
   },
   "outputs": [],
   "source": [
    "#Estaciones de llegada.Franja Horaria Desde las 14 hasta las 19\n",
    "grupoLlegadaTarde = dfViajes[(dfViajes.end_date.dt.hour >= 14 )&(dfViajes.end_date.dt.hour < 19)]\n",
    "llegada3 = grupoLlegadaTarde.groupby(grupoLlegadaTarde['end_station_name']).count().sort_values(by='id',ascending = False).id\n",
    "plt.title('Cantidad de arribos desde 14:00hs a 19:00hs')\n",
    "plt.ylabel('numero de arribos')\n",
    "plt.xlabel('estacion de llegada')\n",
    "llegada3.head(5).plot(kind = 'bar')\n",
    "plt.show()"
   ]
  },
  {
   "cell_type": "code",
   "execution_count": null,
   "metadata": {
    "collapsed": false
   },
   "outputs": [],
   "source": [
    "#Estaciones de salida.Franja Horaria Desde las 19 hasta las 00\n",
    "grupoLlegadaNoche = dfViajes[(dfViajes.end_date.dt.hour >= 19)]\n",
    "llegada4 = grupoLlegadaNoche.groupby(grupoLlegadaNoche['end_station_name']).count().sort_values(by='id',ascending = False).id\n",
    "plt.title('Cantidad de arribos desde 19:00hs a 00:00hs')\n",
    "plt.ylabel('numero de arribos')\n",
    "plt.xlabel('estacion de llegada')\n",
    "llegada4.head(5).plot(kind = 'bar')\n",
    "plt.show()"
   ]
  },
  {
   "cell_type": "code",
   "execution_count": null,
   "metadata": {
    "collapsed": false
   },
   "outputs": [],
   "source": [
    "#Estaciones de llegada.Franja Horaria Desde las 00 hasta las 6\n",
    "grupoLlegadaTrasnoche = dfViajes[(dfViajes.end_date.dt.hour < 6)]\n",
    "llegada5 = grupoLlegadaTrasnoche.groupby(grupoLlegadaTrasnoche['end_station_name']).count().sort_values(by='id',ascending = False).id\n",
    "plt.title('Cantidad de arribos desde 00:00hs a 06:00hs')\n",
    "plt.ylabel('numero de arribos')\n",
    "plt.xlabel('estacion de llegada')\n",
    "llegada5.head(5).plot(kind = 'bar')\n",
    "plt.show()"
   ]
  },
  {
   "cell_type": "code",
   "execution_count": null,
   "metadata": {
    "collapsed": false
   },
   "outputs": [],
   "source": [
    "dfViajes['hour'] = dfViajes.start_date.dt.hour\n",
    "#averiguamos cuantos viajes se hicieron por hora\n",
    "viajesHora = {}\n",
    "for d in dfViajes.hour:\n",
    "    if d not in viajesHora:\n",
    "        viajesHora[d] = 1\n",
    "    else:\n",
    "        viajesHora[d] += 1\n",
    "viajesHora"
   ]
  },
  {
   "cell_type": "code",
   "execution_count": null,
   "metadata": {
    "collapsed": false
   },
   "outputs": [],
   "source": [
    "#Grafico de la cantidad de viajes totales en funcion de las horas.\n",
    "viajesPorHora = pd.DataFrame.from_dict(viajesHora, orient = 'index')\n",
    "plt.title('Cantidad de Viajes por franja horaria')\n",
    "plt.xlabel('horas del dia')\n",
    "plt.xlim(0,23)\n",
    "plt.ylabel('viajes totales')\n",
    "indice = np.arange(24)\n",
    "valores = ['0:00','1:00','2:00','3:00','4:00','5:00','6:00','7:00','8:00','9:00','10:00','11:00','12:00',\n",
    "           '13:00','14:00','15:00','16:00','17:00','18:00','19:00','20:00','21:00','22:00','23:00']\n",
    "plt.xticks(indice,valores)\n",
    "plt.plot(viajesPorHora)\n",
    "plt.show()"
   ]
  },
  {
   "cell_type": "code",
   "execution_count": null,
   "metadata": {
    "collapsed": false
   },
   "outputs": [],
   "source": [
    "#PARA CADA MES CALCULAR LA DURACION PROMEDIO\n",
    "import calendar\n",
    "plt.ion()\n",
    "meses = calendar.month_name[1:13]\n",
    "indice = np.arange(12)\n",
    "duracionPromedioMeses = np.arange(12,dtype=np.float)\n",
    "dfViajes['month']= dfViajes.start_date.dt.month\n",
    "for i in duracionPromedioMeses:\n",
    "    dfViajesMes = dfViajes[dfViajes['month'] == (i + 1)]\n",
    "    promedioMes = dfViajesMes.duration.mean()\n",
    "    duracionPromedioMeses[i] = promedioMes\n",
    "plt.title('Average length of travel according to months of the year')\n",
    "plt.xlabel('Months')\n",
    "plt.ylabel('Average duration (minutes)')\n",
    "plt.xticks(indice,meses, size = 'small', color = 'b', rotation = 45)\n",
    "plt.plot(duracionPromedioMeses)\n",
    "plt.show()"
   ]
  },
  {
   "cell_type": "code",
   "execution_count": null,
   "metadata": {
    "collapsed": false
   },
   "outputs": [],
   "source": [
    "trace0 = go.Bar(\n",
    "    x=llegada1.head(5),\n",
    "    name='Cantidad de arribos desde 06:00hs a 12:00hs',\n",
    "    )\n",
    "\n",
    "trace1 = go.Bar(\n",
    "    x=llegada2.head(5),\n",
    "    name='Cantidad de arribos desde 12:00hs a 14:00hs'\n",
    "     \n",
    ")\n",
    "trace2 = go.Bar(\n",
    "    x=llegada3.head(5),\n",
    "    name='Cantidad de arribos desde 14:00hs a 19:00hs'\n",
    "     \n",
    ")\n",
    "trace3 = go.Bar(\n",
    "    x=llegada4.head(5),\n",
    "    name='Cantidad de arribos desde 19:00hs a 00:00hs'\n",
    "     \n",
    ")\n",
    "trace4 = go.Bar(\n",
    "    x=llegada5.head(5),\n",
    "    name='Cantidad de arribos desde 00:00hs a 06:00hs'\n",
    "     \n",
    ")\n",
    "\n",
    "data = [trace0, trace1,trace2,trace3,trace4]\n",
    "layout = go.Layout(\n",
    "    xaxis=dict(tickangle=0),\n",
    "    barmode='group',\n",
    ")\n",
    "\n",
    "fig = go.Figure(data=data, layout=layout)\n",
    "plotly.offline.iplot(fig, filename='angled-text-bar')"
   ]
  },
  {
   "cell_type": "code",
   "execution_count": null,
   "metadata": {
    "collapsed": false
   },
   "outputs": [],
   "source": [
    "trace0 = go.Bar(\n",
    "    x=salida1.head(5),\n",
    "    name='Cantidad de salidas desde 06:00hs a 12:00hs',\n",
    "    )\n",
    "\n",
    "trace1 = go.Bar(\n",
    "    x=salida2.head(5),\n",
    "    name='Cantidad de salidas desde 12:00hs a 14:00hs'\n",
    "     \n",
    ")\n",
    "trace2 = go.Bar(\n",
    "    x=salida3.head(5),\n",
    "    name='Cantidad de salidas desde 14:00hs a 19:00hs'\n",
    "     \n",
    ")\n",
    "trace3 = go.Bar(\n",
    "    x=salida4.head(5),\n",
    "    name='Cantidad de salidas desde 19:00hs a 00:00hs'\n",
    "     \n",
    ")\n",
    "trace4 = go.Bar(\n",
    "    x=salida5.head(5),\n",
    "    name='Cantidad de salidas desde 00:00hs a 06:00hs'\n",
    "     \n",
    ")\n",
    "\n",
    "data = [trace0, trace1,trace2,trace3,trace4]\n",
    "layout = go.Layout(\n",
    "    xaxis=dict(tickangle=0),\n",
    "    barmode='group',\n",
    ")\n",
    "\n",
    "fig = go.Figure(data=data, layout=layout)\n",
    "plotly.offline.iplot(fig, filename='angled-text-bar')"
   ]
  },
  {
   "cell_type": "markdown",
   "metadata": {
    "deletable": true,
    "editable": true
   },
   "source": [
    "\n",
    "#  El objetivo de este nuevo analisis consiste en estudiar la variacion de los viajes con respecto a los dias de semana y a lo largo de un año, asi como tambien comprender como influyen las condiciones meteorologicas con respecto a los viajes en bicicleta. "
   ]
  },
  {
   "cell_type": "code",
   "execution_count": null,
   "metadata": {
    "collapsed": false,
    "deletable": true,
    "editable": true
   },
   "outputs": [],
   "source": [
    "dfViajes['date'] = dfViajes.start_date.dt.date\n",
    "# Averiguamos cuantos viajes se hicieron por dia\n",
    "dates = {}\n",
    "for d in dfViajes.date:\n",
    "    if d not in dates:\n",
    "        dates[d] = 1\n",
    "    else:\n",
    "        dates[d] += 1"
   ]
  },
  {
   "cell_type": "code",
   "execution_count": null,
   "metadata": {
    "collapsed": false,
    "deletable": true,
    "editable": true
   },
   "outputs": [],
   "source": [
    "\n",
    "dfCantViajes = pd.DataFrame.from_dict(dates, orient = \"index\")\n",
    "dfCantViajes['date'] = dfCantViajes.index\n",
    "dfCantViajes['viajes'] = dfCantViajes.ix[:,0]\n",
    "dfSF_Bay = dfCantViajes.ix[:,1:3]\n",
    "dfSF_Bay = dfSF_Bay.sort_values('date') #Ordeno por fecha\n",
    "dfSF_Bay.reset_index(drop = True, inplace = True) # Queda mas prolijo con indice de 0 a ...\n",
    "dfSF_Bay"
   ]
  },
  {
   "cell_type": "code",
   "execution_count": null,
   "metadata": {
    "collapsed": false
   },
   "outputs": [],
   "source": [
    "data = [go.Scatter( x=dfSF_Bay['date'], y=dfSF_Bay['viajes'] )]\n",
    "\n",
    "layout = dict(\n",
    "    title='Distribucion de viajes en linea de tiempo',\n",
    "    yaxis=dict(title='Viajes')\n",
    "           \n",
    "    )\n",
    "fig = dict(data=data, layout=layout)\n",
    "plotly.offline.iplot(fig, filename = \"Time Series with Rangeslider\")"
   ]
  },
  {
   "cell_type": "code",
   "execution_count": null,
   "metadata": {
    "collapsed": false
   },
   "outputs": [],
   "source": [
    "data = [go.Scatter(\n",
    "          x=dfSF_Bay.date,\n",
    "          y=dfSF_Bay.viajes,\n",
    "            mode='markers',\n",
    "    showlegend=False)\n",
    "           ]\n",
    "layout = dict(\n",
    "    title='Distribucion de viajes en linea de tiempo',\n",
    "    yaxis=dict(title='Viajes')\n",
    "           \n",
    "    )\n",
    "fig = dict(data=data, layout=layout)\n",
    "plotly.offline.iplot(fig, filename = \"Time Series with Rangeslider\")"
   ]
  },
  {
   "cell_type": "code",
   "execution_count": null,
   "metadata": {
    "collapsed": false,
    "deletable": true,
    "editable": true
   },
   "outputs": [],
   "source": [
    "print((dfCantViajes).info()) "
   ]
  },
  {
   "cell_type": "code",
   "execution_count": null,
   "metadata": {
    "collapsed": false,
    "deletable": true,
    "editable": true,
    "scrolled": true
   },
   "outputs": [],
   "source": [
    "print((dfViajes).info()) \n"
   ]
  },
  {
   "cell_type": "code",
   "execution_count": null,
   "metadata": {
    "collapsed": false,
    "deletable": true,
    "editable": true
   },
   "outputs": [],
   "source": [
    "#Hacemos un merge, para obtener los viajes con el clima\n",
    "dfSF_Bay = dfSF_Bay.merge(dfClimaLimpio, on = dfSF_Bay.date)\n",
    "dfSF_Bay"
   ]
  },
  {
   "cell_type": "code",
   "execution_count": null,
   "metadata": {
    "collapsed": false,
    "deletable": true,
    "editable": true
   },
   "outputs": [],
   "source": [
    "dfSF_Bay['date'] = dfSF_Bay['date_x']\n",
    "dfSF_Bay.drop(['date_y','date_x'],1, inplace= True)\n",
    "#Limpio esos features repetidos"
   ]
  },
  {
   "cell_type": "code",
   "execution_count": null,
   "metadata": {
    "collapsed": false,
    "deletable": true,
    "editable": true,
    "scrolled": true
   },
   "outputs": [],
   "source": [
    "dfSF_Bay #todo ok"
   ]
  },
  {
   "cell_type": "code",
   "execution_count": null,
   "metadata": {
    "collapsed": false,
    "deletable": true,
    "editable": true
   },
   "outputs": [],
   "source": [
    "#Buscamos los feriados en el calendario estadounidense\n",
    "calendar = USFederalHolidayCalendar()\n",
    "holidays = calendar.holidays(start=dfSF_Bay.date.min(), end=dfSF_Bay.date.max())\n",
    "holidays"
   ]
  },
  {
   "cell_type": "code",
   "execution_count": null,
   "metadata": {
    "collapsed": true,
    "deletable": true,
    "editable": true
   },
   "outputs": [],
   "source": [
    "#Buscamos los dias laborables en el calendario estadounidense\n",
    "us_bd = CustomBusinessDay(calendar=USFederalHolidayCalendar())\n",
    "business_days = pd.DatetimeIndex(start=dfSF_Bay.date.min(), end=dfSF_Bay.date.max(), freq=us_bd)"
   ]
  },
  {
   "cell_type": "code",
   "execution_count": null,
   "metadata": {
    "collapsed": true,
    "deletable": true,
    "editable": true
   },
   "outputs": [],
   "source": [
    "business_days = pd.to_datetime(business_days, format='%Y/%m/%d').date\n",
    "holidays = pd.to_datetime(holidays, format='%Y/%m/%d').date"
   ]
  },
  {
   "cell_type": "code",
   "execution_count": null,
   "metadata": {
    "collapsed": false,
    "deletable": true,
    "editable": true
   },
   "outputs": [],
   "source": [
    "# Lo agregamos al dataframe\n",
    "dfSF_Bay['business_day'] = dfSF_Bay.date.isin(business_days)\n",
    "dfSF_Bay['holiday'] = dfSF_Bay.date.isin(holidays)\n",
    "dfSF_Bay"
   ]
  },
  {
   "cell_type": "code",
   "execution_count": null,
   "metadata": {
    "collapsed": false
   },
   "outputs": [],
   "source": [
    "dfSF_Bay.dtypes"
   ]
  },
  {
   "cell_type": "code",
   "execution_count": null,
   "metadata": {
    "collapsed": false,
    "deletable": true,
    "editable": true
   },
   "outputs": [],
   "source": [
    "#Convert True to 1 and False to 0\n",
    "dfSF_Bay.business_day = dfSF_Bay.business_day.map(lambda x: 1 if x == True else 0)\n",
    "dfSF_Bay.holiday = dfSF_Bay.holiday.map(lambda x: 1 if x == True else 0)\n",
    "dfSF_Bay"
   ]
  },
  {
   "cell_type": "code",
   "execution_count": null,
   "metadata": {
    "collapsed": false,
    "deletable": true,
    "editable": true
   },
   "outputs": [],
   "source": [
    "#Convert date to the important features, year, month, weekday (0 = Monday, 1 = Tuesday...)\n",
    "#We don't need day because what it represents changes every year.\n",
    "dfSF_Bay['year'] = pd.to_datetime(dfSF_Bay['date']).dt.year\n",
    "dfSF_Bay['month'] = pd.to_datetime(dfSF_Bay['date']).dt.month\n",
    "dfSF_Bay['weekday'] = pd.to_datetime(dfSF_Bay['date']).dt.weekday\n",
    "dfSF_Bay"
   ]
  },
  {
   "cell_type": "code",
   "execution_count": null,
   "metadata": {
    "collapsed": false
   },
   "outputs": [],
   "source": [
    "#Lo usamos para grafico Meses vs Viajes\n",
    "meses = dfSF_Bay.groupby('month').sum()\n",
    "#Lo usamos para grafico Dias vs Viajes\n",
    "dia = dfSF_Bay.groupby('weekday').sum()\n"
   ]
  },
  {
   "cell_type": "code",
   "execution_count": null,
   "metadata": {
    "collapsed": false
   },
   "outputs": [],
   "source": [
    "data = [go.Scatter(\n",
    "          x=['Enero','Febrero','Marzo','Abril','Mayo','Junio','Julio','Agosto','Septiembre','Octubre','Noviembre','Diciembre'],\n",
    "          y=meses.viajes)]\n",
    "layout = dict(\n",
    "    title='Cantidad de viajes por mes',\n",
    "    xaxis=dict(title='Meses'),\n",
    "    yaxis=dict(title='Viajes') \n",
    "    )\n",
    "fig = dict(data=data, layout=layout)\n",
    "plotly.offline.iplot(fig, filename = \"Time Series with Rangeslider\")\n"
   ]
  },
  {
   "cell_type": "code",
   "execution_count": null,
   "metadata": {
    "collapsed": false
   },
   "outputs": [],
   "source": [
    "x1=['Lunes','Martes','Miercoles','Jueves','Viernes','Sabado','Domingo']\n",
    "data= [go.Scatter(\n",
    "          x=x1,\n",
    "          y=dia.viajes)]\n",
    "\n",
    "layout = dict(\n",
    "    title='Cantidad de viajes por mes',\n",
    "    xaxis=dict(title='Dia'),\n",
    "    yaxis=dict(title='Viajes')\n",
    "       \n",
    "      \n",
    "    )\n",
    "\n",
    "\n",
    "fig = dict(data=data, layout=layout)\n",
    "plotly.offline.iplot(fig, filename = \"Time Series with Rangeslider\")"
   ]
  },
  {
   "cell_type": "markdown",
   "metadata": {},
   "source": [
    "### DFTIMELINE"
   ]
  },
  {
   "cell_type": "code",
   "execution_count": null,
   "metadata": {
    "collapsed": true
   },
   "outputs": [],
   "source": [
    "from collections import defaultdict\n",
    "salida = {}\n",
    "entrada ={}\n",
    "epa = []\n",
    "for d in dfViajes.end_station_name:\n",
    "    if d not in salida:\n",
    "        salida[d] =1\n",
    "    else:\n",
    "        salida[d] +=1\n",
    "        \n",
    "for d in dfViajes.start_station_name:\n",
    "    if d not in entrada:\n",
    "        entrada[d] =1\n",
    "    else:\n",
    "        entrada[d] +=1  \n",
    "        \n",
    "        \n",
    "a=salida.items()\n",
    "b=entrada.items()\n",
    "a.extend(b)\n",
    "d = defaultdict(list)\n",
    "for k, v in a:\n",
    "    d[k].append(v)\n",
    "    "
   ]
  },
  {
   "cell_type": "code",
   "execution_count": null,
   "metadata": {
    "collapsed": true
   },
   "outputs": [],
   "source": [
    "dfRanking = pd.DataFrame.from_dict(d, orient=\"index\")\n",
    "dfRanking['name'] = dfRanking.index\n",
    "dfRanking['bicicletas_que_salieron']= dfRanking.ix[:,0].astype(float)\n",
    "dfRanking['bicicletas_que_entraron']= dfRanking.ix[:,1].astype(float)\n",
    "dfRanking['promedio']= (dfRanking.bicicletas_que_entraron + dfRanking.bicicletas_que_salieron)/2\n",
    "\n",
    "dfRanking.reset_index(drop=True, inplace=True)\n",
    "#dfRanking.drop([0,1],1)\n",
    "\n",
    "del dfRanking[0]\n",
    "del dfRanking[1]"
   ]
  },
  {
   "cell_type": "code",
   "execution_count": null,
   "metadata": {
    "collapsed": false
   },
   "outputs": [],
   "source": [
    "dfTimeline = pd.DataFrame(columns=['name','Inauguracion','Uso_de_Estacion_P','Salida_P','Entrada_P'])\n",
    "dfTimeline.name = dfEstaciones.name\n",
    "dfTimeline.Inauguracion = dfEstaciones.installation_date\n",
    "dfTimeline = pd.merge(dfTimeline, dfRanking, on='name', how='inner')\n",
    "dfTimeline.Inauguracion = pd.to_datetime(dfTimeline.Inauguracion, format = \"%Y/%m/%d\")\n",
    "\n",
    "dfTimeline = pd.merge(dfTimeline, dfEstaciones, on='name', how='inner')\n",
    "del dfTimeline['installation_date']\n"
   ]
  },
  {
   "cell_type": "code",
   "execution_count": null,
   "metadata": {
    "collapsed": false
   },
   "outputs": [],
   "source": [
    "bicicletasQueSalieron = dfTimeline.bicicletas_que_salieron.sum()\n",
    "bicicletasQueEntraron = dfTimeline.bicicletas_que_entraron.sum()\n",
    "bicicletasPromedio = dfTimeline.promedio.sum()\n",
    "\n",
    "dfTimeline.Uso_de_Estacion_P = dfTimeline.promedio.apply(lambda x: (100*x)/bicicletasPromedio)\n",
    "dfTimeline.Salida_P = dfTimeline.bicicletas_que_salieron.apply(lambda x: float((100*x)/bicicletasQueSalieron))\n",
    "dfTimeline.Entrada_P = dfTimeline.bicicletas_que_entraron.apply(lambda x: float((100*x)/bicicletasQueEntraron))\n"
   ]
  },
  {
   "cell_type": "code",
   "execution_count": null,
   "metadata": {
    "collapsed": false
   },
   "outputs": [],
   "source": [
    "dfTimeline.sort_values(by='promedio', ascending=False)\n"
   ]
  },
  {
   "cell_type": "code",
   "execution_count": null,
   "metadata": {
    "collapsed": false
   },
   "outputs": [],
   "source": [
    "import plotly \n",
    "import plotly.graph_objs as go\n",
    "import plotly.plotly as py\n",
    "from plotly.graph_objs import *\n",
    "plotly.offline.init_notebook_mode()\n",
    "plotly.tools.set_credentials_file(username='AARdfSF_Bay', api_key='XFLHonutbTpz1cZ77dcl')\n",
    "\n"
   ]
  },
  {
   "cell_type": "code",
   "execution_count": null,
   "metadata": {
    "collapsed": false
   },
   "outputs": [],
   "source": [
    "dfTimeline = dfTimeline.sort_values(by= 'Uso_de_Estacion_P')\n",
    "data = [\n",
    "    go.Bar(\n",
    "        x=dfTimeline.Uso_de_Estacion_P, # assign x as the dataframe column 'x'\n",
    "        y=dfTimeline.name,\n",
    "        orientation='h',\n",
    "        \n",
    "    )\n",
    "]\n",
    "layout = dict(\n",
    "    title='Ranking de estaciones por uso',\n",
    "    xaxis=dict(title='Porcentaje con respecto al total de estaciones'),     \n",
    "    )\n",
    "\n",
    "fig = go.Figure(data=data, layout=layout)\n",
    "plotly.offline.iplot(fig, filename='stacked-bar')\n"
   ]
  },
  {
   "cell_type": "code",
   "execution_count": null,
   "metadata": {
    "collapsed": false,
    "scrolled": false
   },
   "outputs": [],
   "source": [
    "dfTimeline = dfTimeline.sort_values(by= 'Salida_P', ascending=False)\n",
    "data =  [go.Bar(\n",
    "        x=dfTimeline.Salida_P.head(10), # assign x as the dataframe column 'x'\n",
    "        y=dfTimeline.name,\n",
    "        orientation='h',\n",
    "        )]\n",
    "    \n",
    "\n",
    "layout = dict(\n",
    "    title='Top 10 estaciones por promedio de salida',\n",
    "    xaxis=dict(title='Porcentaje con respecto al total de estaciones'),     \n",
    "    )\n",
    "\n",
    "fig = go.Figure(data=data, layout=layout)\n",
    "plotly.offline.iplot(fig, filename='stacked-bar')\n",
    "\n"
   ]
  },
  {
   "cell_type": "code",
   "execution_count": null,
   "metadata": {
    "collapsed": false
   },
   "outputs": [],
   "source": [
    "dfTimeline = dfTimeline.sort_values(by= 'Entrada_P', ascending=False)\n",
    "data =  [go.Bar(\n",
    "        x=dfTimeline.Entrada_P.head(10), # assign x as the dataframe column 'x'\n",
    "        y=dfTimeline.name,\n",
    "        orientation='h',\n",
    "        )]\n",
    "    \n",
    "\n",
    "layout = dict(\n",
    "    title='Top 10 estaciones por promedio de entrada',\n",
    "    xaxis=dict(title='Porcentaje con respecto al total de estaciones'),     \n",
    "    )\n",
    "\n",
    "fig = go.Figure(data=data, layout=layout)\n",
    "plotly.offline.iplot(fig, filename='stacked-bar')\n"
   ]
  },
  {
   "cell_type": "code",
   "execution_count": null,
   "metadata": {
    "collapsed": false,
    "scrolled": true
   },
   "outputs": [],
   "source": [
    "\n",
    "cantidades = dfTimeline.groupby('city', as_index=False).count()\n",
    "cantidades = cantidades['name']\n",
    "trace1 = go.Bar(\n",
    "    x=['Mountain View', 'Palo Alto', 'Redwood City', 'San Francisco', 'San Jose'],\n",
    "    y=cantidades.values.tolist(),\n",
    "\n",
    ")\n",
    "data = [trace1]\n",
    "layout = dict(\n",
    "    title='Cantidad de estaciones por ciudad',\n",
    ")\n",
    "\n",
    "fig = go.Figure(data=data, layout=layout)\n",
    "plotly.offline.iplot(fig, filename='stacked-bar')\n",
    "\n",
    "\n"
   ]
  },
  {
   "cell_type": "code",
   "execution_count": null,
   "metadata": {
    "collapsed": false
   },
   "outputs": [],
   "source": [
    "dfSF_BayHeatmap2 =dfSF_Bay.loc[:,ejeY].corr().head(1)\n",
    "fig, ax = plt.subplots(figsize=(11,6)); \n",
    "df =dfSF_BayHeatmap2.drop(['viajes'],1)\n",
    "ax = plt.axes()\n",
    "cg=sns.heatmap(df,cmap='RdBu_r', ax = ax)\n",
    "ax.set_title('Correlacion cantidad de viajes con parametros')\n",
    "for item in cg.get_xticklabels():\n",
    "    item.set_rotation(90)\n",
    "plt.gcf().subplots_adjust(bottom=0.6)\n"
   ]
  },
  {
   "cell_type": "code",
   "execution_count": null,
   "metadata": {
    "collapsed": false,
    "scrolled": true
   },
   "outputs": [],
   "source": [
    "dfTimeline = dfTimeline.sort_values('Inauguracion')\n",
    "data = [\n",
    "    go.Scatter(\n",
    "        x=dfTimeline.id.count(), \n",
    "        y=dfTimeline.Inauguracion\n",
    "    )\n",
    "]\n",
    "layout = dict(\n",
    "    title='Creacion de estaciones a lo largo del tiempo',\n",
    "    xaxis=dict(title='Cantidad de estaciones'),     \n",
    "    )\n",
    "fig = go.Figure(data=data, layout=layout)\n",
    "url = plotly.offline.iplot(fig, filename='pandas-horizontal-bar')\n",
    "\n"
   ]
  },
  {
   "cell_type": "markdown",
   "metadata": {},
   "source": [
    "# Finalmente se propone un analisis desde la perspectiva geolocalizada, estudiar las variables analizadas anteriormente en la distribucion de un mapa de diversas formas."
   ]
  },
  {
   "cell_type": "code",
   "execution_count": null,
   "metadata": {
    "collapsed": false
   },
   "outputs": [],
   "source": [
    "latPromedio = dfEstaciones.lat.mean()\n",
    "longPromedio = dfEstaciones.long.mean()\n",
    "cantidadTotalDeBicicletasSoportadas = dfEstaciones.dock_count.sum()\n",
    "print cantidadTotalDeBicicletasSoportadas"
   ]
  },
  {
   "cell_type": "code",
   "execution_count": null,
   "metadata": {
    "collapsed": true
   },
   "outputs": [],
   "source": [
    "map1 = folium.Map(location=[latPromedio, longPromedio], tiles = \"Stamen Terrain\")\n",
    "map1Copy = folium.Map(location=[latPromedio, longPromedio], tiles = \"Stamen Terrain\")\n",
    "map2 = folium.Map(location=[latPromedio, longPromedio], tiles = \"Stamen Terrain\")\n",
    "startStationMap = folium.Map(location=[latPromedio, longPromedio], tiles = \"Stamen Terrain\")\n",
    "viajesEntreEstacionesMap = folium.Map(location=[latPromedio, longPromedio], tiles = \"Stamen Terrain\")"
   ]
  },
  {
   "cell_type": "code",
   "execution_count": null,
   "metadata": {
    "collapsed": false
   },
   "outputs": [],
   "source": [
    "grupoDeUbicaciones = folium.FeatureGroup(name='Ubicación de estaciones 1')\n",
    "for lat, lon, nombre in zip(dfEstaciones.lat, dfEstaciones.long, dfEstaciones.name):\n",
    "    grupoDeUbicaciones.add_child(folium.Marker(location=[lat,lon], popup=nombre))\n",
    "    \n",
    "map1.add_child(grupoDeUbicaciones)"
   ]
  },
  {
   "cell_type": "code",
   "execution_count": null,
   "metadata": {
    "collapsed": false
   },
   "outputs": [],
   "source": [
    "# Ahora intento version con MarkerCluster\n",
    "# map1Copy.add_child(folium.MarkerCluster(locations=list(zip(dfEstaciones.long, dfEstaciones.lat))))\n",
    "\n",
    "clusterDeUbicaciones = folium.MarkerCluster().add_to(map1Copy)\n",
    "for lat, lon, nombre in zip(dfEstaciones.lat, dfEstaciones.long, dfEstaciones.name):\n",
    "    folium.Marker(location=[lat,lon], popup=nombre).add_to(clusterDeUbicaciones)\n",
    "    \n",
    "# map1.add_child(grupoDeUbicaciones)\n",
    "map1Copy"
   ]
  },
  {
   "cell_type": "code",
   "execution_count": null,
   "metadata": {
    "collapsed": false
   },
   "outputs": [],
   "source": [
    "grupoDeUbicacionesConCantidades = folium.FeatureGroup(name='Ubicación de estaciones')\n",
    "for lat, lon, nombre, cantidadDeBicicletasSoportadas in zip(dfEstaciones.lat, dfEstaciones.long, dfEstaciones.name, dfEstaciones.dock_count):\n",
    "    grupoDeUbicacionesConCantidades.add_child(folium.CircleMarker(location=[lat,lon], popup=nombre, \n",
    "                                                     radius=cantidadDeBicicletasSoportadas, \n",
    "                                                     fill_color='#b3ffb3', color='#00ff00'))\n",
    "    \n",
    "map2.add_child(grupoDeUbicacionesConCantidades)"
   ]
  },
  {
   "cell_type": "code",
   "execution_count": null,
   "metadata": {
    "collapsed": false
   },
   "outputs": [],
   "source": [
    "dfStartStationCount = dfViajes[['id', 'start_station_id']].groupby(by='start_station_id', as_index=False)\\\n",
    "                                                .count().rename(columns={'id': 'cantidad_de_partidas'})\n",
    "dfStartStationCount"
   ]
  },
  {
   "cell_type": "code",
   "execution_count": null,
   "metadata": {
    "collapsed": false
   },
   "outputs": [],
   "source": [
    "dfPartidas = dfEstaciones[['id', 'lat', 'long', 'name']].merge(pd.DataFrame(dfStartStationCount), \\\n",
    "         left_on='id', right_on='start_station_id', how='right')\n",
    "dfPartidas"
   ]
  },
  {
   "cell_type": "code",
   "execution_count": null,
   "metadata": {
    "collapsed": false
   },
   "outputs": [],
   "source": [
    "cantidad_de_partidas_maxima = dfPartidas.cantidad_de_partidas.max()\n",
    "cantidad_de_partidas_maxima"
   ]
  },
  {
   "cell_type": "code",
   "execution_count": null,
   "metadata": {
    "collapsed": false
   },
   "outputs": [],
   "source": [
    "grupoDeUbicacionesConCantidadesDePartidas = folium.FeatureGroup(name='Ubicación de estaciones con infor de #partidas')\n",
    "for lat, lon, nombre, cant in zip(dfPartidas.lat, dfPartidas.long, dfPartidas.name, dfPartidas.cantidad_de_partidas):\n",
    "    grupoDeUbicacionesConCantidadesDePartidas.add_child(folium.CircleMarker(location=[lat,lon], popup=nombre, \n",
    "                                                     radius=cant/1000,\n",
    "                                                     fill_color='#8A2BE2', color='#00ff00'))\n",
    "    \n",
    "startStationMap.add_child(grupoDeUbicacionesConCantidadesDePartidas)"
   ]
  },
  {
   "cell_type": "code",
   "execution_count": null,
   "metadata": {
    "collapsed": false
   },
   "outputs": [],
   "source": [
    "dfViajesEntreEstaciones = dfViajes[['id', 'start_station_id', 'end_station_id']]\\\n",
    "        .groupby(by=['start_station_id', 'end_station_id'], as_index=False)\\\n",
    "        .count().rename(columns={'id': 'cantidad'})\n",
    "dfViajesEntreEstaciones"
   ]
  },
  {
   "cell_type": "code",
   "execution_count": null,
   "metadata": {
    "collapsed": true
   },
   "outputs": [],
   "source": [
    "dfViajesEntreEstaciones = dfViajesEntreEstaciones.merge(right=dfEstaciones[['lat', 'long', 'id', 'name', 'city']], \\\n",
    "                              left_on='start_station_id', right_on='id')\\\n",
    "                            .drop(['id'], 1).rename(columns={'lat': 'start_station_lat', 'long': \\\n",
    "                                                          'start_station_long', 'name': 'start_station_name', \\\n",
    "                                                             'city': 'start_city'})"
   ]
  },
  {
   "cell_type": "code",
   "execution_count": null,
   "metadata": {
    "collapsed": false
   },
   "outputs": [],
   "source": [
    "dfViajesEntreEstaciones = dfViajesEntreEstaciones.merge(right=dfEstaciones[['lat', 'long', 'id', 'name', 'city']], \\\n",
    "                              left_on='end_station_id', right_on='id')\\\n",
    "                            .drop(['id'], 1).rename(columns={'lat': 'end_station_lat', 'long': \\\n",
    "                                                          'end_station_long', 'name': 'end_station_name', \\\n",
    "                                                             'city': 'end_city'})\n",
    "dfViajesEntreEstaciones.sort_values(by='cantidad', ascending=True)"
   ]
  },
  {
   "cell_type": "code",
   "execution_count": null,
   "metadata": {
    "collapsed": false
   },
   "outputs": [],
   "source": [
    "dfViajesEntreEstaciones.cantidad.describe()"
   ]
  },
  {
   "cell_type": "markdown",
   "metadata": {},
   "source": [
    "## Analizo distribucion de datos\n"
   ]
  },
  {
   "cell_type": "code",
   "execution_count": null,
   "metadata": {
    "collapsed": false
   },
   "outputs": [],
   "source": [
    "dfViajesEntreEstaciones.filter(items=['start_station_id', 'cantidad']).hist('cantidad', bins=4)"
   ]
  },
  {
   "cell_type": "code",
   "execution_count": null,
   "metadata": {
    "collapsed": false
   },
   "outputs": [],
   "source": [
    "maxCantidadDeViajes = dfViajesEntreEstaciones.cantidad.max()\n",
    "promedioCantidadDeViajes = dfViajesEntreEstaciones.cantidad.mean()\n",
    "dfViajesEntreEstaciones.cantidad.max()"
   ]
  },
  {
   "cell_type": "code",
   "execution_count": null,
   "metadata": {
    "collapsed": false
   },
   "outputs": [],
   "source": [
    "# colores = cm.LinearColormap(['green', 'orange', 'red'], vmax=maxCantidadDeViajes, \n",
    "#                   index=[0, promedioCantidadDeViajes, maxCantidadDeViajes])\n",
    "\n",
    "# colores = cm.LinearColormap(['red', 'orange', 'yellow', 'green'], vmax = maxCantidadDeViajes)\n",
    "\n",
    "colores = cm.StepColormap(['green', 'yellow', 'magenta', 'red'],\n",
    "                       vmin=1, vmax=maxCantidadDeViajes, index=[1, 1500, 3100, 4650, maxCantidadDeViajes],\n",
    "                       caption='step')\n",
    "colores.caption = 'Cantidad de viajes entre estaciones'\n",
    "# colores = cm.linear.Set1.scale(0, maxCantidadDeViajes).to_step(\n",
    "# #     n=4,\n",
    "#     index=[1, 71.5, 191, 440, 6216],\n",
    "# #     method='quantiles',\n",
    "# #     round_method='int'\n",
    "# )\n",
    "# colores.to_linear()\n",
    "colores2 = cm.linear.YlGn.scale(0, 6000)\n",
    "#colores3 = cm.linear.RdGy.to_step(100).scale(0, 6000)\n",
    "\n",
    "\n",
    "colores"
   ]
  },
  {
   "cell_type": "code",
   "execution_count": null,
   "metadata": {
    "collapsed": false
   },
   "outputs": [],
   "source": [
    "linesMap = folium.Map(location=[latPromedio, longPromedio], tiles = \"Stamen Terrain\")\n",
    "linesMap.add_child(colores)"
   ]
  },
  {
   "cell_type": "code",
   "execution_count": null,
   "metadata": {
    "collapsed": true
   },
   "outputs": [],
   "source": [
    "clusterDeUbicaciones = folium.MarkerCluster().add_to(linesMap)\n",
    "for lat, lon, nombre in zip(dfEstaciones.lat, dfEstaciones.long, dfEstaciones.name):\n",
    "    folium.Marker(location=[lat,lon], popup=nombre).add_to(clusterDeUbicaciones)"
   ]
  },
  {
   "cell_type": "code",
   "execution_count": null,
   "metadata": {
    "collapsed": false
   },
   "outputs": [],
   "source": [
    "for startLat, startLon, startName, endLat, endLon, endName, cant in zip(dfViajesEntreEstaciones.start_station_lat,\\\n",
    "                                                                       dfViajesEntreEstaciones.start_station_long,\\\n",
    "                                                                       dfViajesEntreEstaciones.start_station_name,\\\n",
    "                                                                       dfViajesEntreEstaciones.end_station_lat,\\\n",
    "                                                                       dfViajesEntreEstaciones.end_station_long,\\\n",
    "                                                                       dfViajesEntreEstaciones.end_station_name,\\\n",
    "                                                                       dfViajesEntreEstaciones.cantidad):\n",
    "    folium.PolyLine(locations=[(startLat, startLon), (endLat, endLon)], color=colores(cant), weight=3, opacity=1).add_to(linesMap)\n",
    "#     linesMap.add_child(c)\n",
    "    \n",
    "# startStationMap.add_child(grupoDeViajesEntreEstaciones)\n",
    "linesMap"
   ]
  },
  {
   "cell_type": "code",
   "execution_count": null,
   "metadata": {
    "collapsed": false
   },
   "outputs": [],
   "source": [
    "dfViajesEntreEstaciones.start_city.unique()"
   ]
  },
  {
   "cell_type": "markdown",
   "metadata": {},
   "source": [
    "# Mapa con viajes en San Jose"
   ]
  },
  {
   "cell_type": "code",
   "execution_count": null,
   "metadata": {
    "collapsed": false
   },
   "outputs": [],
   "source": [
    "dfViajesEntreEstacionesEnSanJose = (dfViajesEntreEstaciones[dfViajesEntreEstaciones.start_city == 'San Jose']).drop('start_city', 1)\n",
    "dfViajesEntreEstacionesEnSanJose = (dfViajesEntreEstacionesEnSanJose[dfViajesEntreEstacionesEnSanJose.end_city == 'San Jose']).drop('end_city', 1)\n",
    "dfViajesEntreEstacionesEnSanJose"
   ]
  },
  {
   "cell_type": "code",
   "execution_count": null,
   "metadata": {
    "collapsed": true
   },
   "outputs": [],
   "source": [
    "latSanJosePromedio = dfViajesEntreEstacionesEnSanJose.start_station_lat.mean()\n",
    "longSanJosePromedio = dfViajesEntreEstacionesEnSanJose.start_station_long.mean()"
   ]
  },
  {
   "cell_type": "code",
   "execution_count": null,
   "metadata": {
    "collapsed": false
   },
   "outputs": [],
   "source": [
    "viajesEntreEstacionesEnSanJoseMap = folium.Map(location=[latSanJosePromedio, longSanJosePromedio], tiles = \"Stamen Terrain\", zoom_start=14)\n",
    "viajesEntreEstacionesEnSanJoseMap"
   ]
  },
  {
   "cell_type": "code",
   "execution_count": null,
   "metadata": {
    "collapsed": false
   },
   "outputs": [],
   "source": [
    "dfViajesEntreEstacionesEnSanJose.cantidad.describe()"
   ]
  },
  {
   "cell_type": "code",
   "execution_count": null,
   "metadata": {
    "collapsed": true
   },
   "outputs": [],
   "source": [
    "maxCantidadDeViajesEnSanJose = dfViajesEntreEstacionesEnSanJose.cantidad.max()\n",
    "# promedioCantidadDeViajesEnSanJose = dfViajesEntreEstacionesEnSanJose.cantidad.mean()"
   ]
  },
  {
   "cell_type": "code",
   "execution_count": null,
   "metadata": {
    "collapsed": true
   },
   "outputs": [],
   "source": [
    "coloresSanJose = cm.StepColormap(['green', 'yellow', 'magenta', 'red'],\n",
    "                       vmin=1, vmax=maxCantidadDeViajesEnSanJose, index=[3, 32, 65, 135, maxCantidadDeViajesEnSanJose],\n",
    "                       caption='step')\n",
    "coloresSanJose.caption = 'Cantidad de viajes entre estaciones en San Jose'\n",
    "coloresSanJose\n",
    "coloresSanJose2 = cm.linear.YlGn.scale(0, maxCantidadDeViajesEnSanJose)"
   ]
  },
  {
   "cell_type": "code",
   "execution_count": null,
   "metadata": {
    "collapsed": false
   },
   "outputs": [],
   "source": [
    "viajesEntreEstacionesEnSanJoseMap.add_child(coloresSanJose)"
   ]
  },
  {
   "cell_type": "code",
   "execution_count": null,
   "metadata": {
    "collapsed": true
   },
   "outputs": [],
   "source": [
    "clusterDeUbicacionesSanJose = folium.MarkerCluster().add_to(viajesEntreEstacionesEnSanJoseMap)\n",
    "for lat, lon, nombre in zip(dfViajesEntreEstacionesEnSanJose.start_station_lat.unique(), \\\n",
    "                            dfViajesEntreEstacionesEnSanJose.start_station_long.unique(), \\\n",
    "                            dfViajesEntreEstacionesEnSanJose.start_station_name.unique()):\n",
    "    folium.Marker(location=[lat,lon], popup=nombre).add_to(clusterDeUbicacionesSanJose)"
   ]
  },
  {
   "cell_type": "code",
   "execution_count": null,
   "metadata": {
    "collapsed": false
   },
   "outputs": [],
   "source": [
    "for startLat, startLon, startName, endLat, endLon, endName, cant in zip(dfViajesEntreEstacionesEnSanJose.start_station_lat,\\\n",
    "                                                                       dfViajesEntreEstacionesEnSanJose.start_station_long,\\\n",
    "                                                                       dfViajesEntreEstacionesEnSanJose.start_station_name,\\\n",
    "                                                                       dfViajesEntreEstacionesEnSanJose.end_station_lat,\\\n",
    "                                                                       dfViajesEntreEstacionesEnSanJose.end_station_long,\\\n",
    "                                                                       dfViajesEntreEstacionesEnSanJose.end_station_name,\\\n",
    "                                                                       dfViajesEntreEstacionesEnSanJose.cantidad):\n",
    "    folium.PolyLine(locations=[(startLat, startLon), (endLat, endLon)], color=coloresSanJose(cant), weight=3, opacity=1).add_to(viajesEntreEstacionesEnSanJoseMap)\n",
    "viajesEntreEstacionesEnSanJoseMap"
   ]
  },
  {
   "cell_type": "markdown",
   "metadata": {},
   "source": [
    "## Grafico con n estaciones mas activas\n"
   ]
  },
  {
   "cell_type": "code",
   "execution_count": null,
   "metadata": {
    "collapsed": true
   },
   "outputs": [],
   "source": [
    "n = 20"
   ]
  },
  {
   "cell_type": "code",
   "execution_count": null,
   "metadata": {
    "collapsed": true
   },
   "outputs": [],
   "source": [
    "cotaInferiorSanJose = dfViajesEntreEstacionesEnSanJose.cantidad.nlargest (n).min()"
   ]
  },
  {
   "cell_type": "code",
   "execution_count": null,
   "metadata": {
    "collapsed": false
   },
   "outputs": [],
   "source": [
    "dfViajesEntreEstacionesEnSanJoseTopN = dfViajesEntreEstacionesEnSanJose[dfViajesEntreEstacionesEnSanJose['cantidad'] \\\n",
    "                                                                        >= cotaInferiorSanJose]\n",
    "dfViajesEntreEstacionesEnSanJoseTopN"
   ]
  },
  {
   "cell_type": "code",
   "execution_count": null,
   "metadata": {
    "collapsed": false
   },
   "outputs": [],
   "source": [
    "topViajesEntreEstacionesEnSanJoseMap = folium.Map(location=[latSanJosePromedio, longSanJosePromedio], tiles = \"Stamen Terrain\", zoom_start=14)\n",
    "topViajesEntreEstacionesEnSanJoseMap"
   ]
  },
  {
   "cell_type": "code",
   "execution_count": null,
   "metadata": {
    "collapsed": false
   },
   "outputs": [],
   "source": [
    "dfViajesEntreEstacionesEnSanJoseTopN.cantidad.describe()"
   ]
  },
  {
   "cell_type": "code",
   "execution_count": null,
   "metadata": {
    "collapsed": false
   },
   "outputs": [],
   "source": [
    "coloresSanJoseTopN = cm.StepColormap(['green', 'yellow', 'magenta', 'red'],\n",
    "                       vmin=1, vmax=maxCantidadDeViajesEnSanJose, index=[438, 552, 666, 857, maxCantidadDeViajesEnSanJose],\n",
    "                       caption='step')\n",
    "coloresSanJoseTopN.caption = 'Cantidad de viajes entre estaciones en San Jose'\n",
    "\n",
    "coloresSanJoseTopN2 = cm.linear.YlGn.scale(0, maxCantidadDeViajesEnSanJose)\n",
    "\n",
    "coloresSanJoseTopN"
   ]
  },
  {
   "cell_type": "code",
   "execution_count": null,
   "metadata": {
    "collapsed": false
   },
   "outputs": [],
   "source": [
    "topViajesEntreEstacionesEnSanJoseMap.add_child(coloresSanJoseTopN)"
   ]
  },
  {
   "cell_type": "code",
   "execution_count": null,
   "metadata": {
    "collapsed": true
   },
   "outputs": [],
   "source": [
    "clusterDeUbicacionesSanJose = folium.MarkerCluster().add_to(topViajesEntreEstacionesEnSanJoseMap)\n",
    "for lat, lon, nombre in zip(dfViajesEntreEstacionesEnSanJose.start_station_lat.unique(), \\\n",
    "                            dfViajesEntreEstacionesEnSanJose.start_station_long.unique(), \\\n",
    "                            dfViajesEntreEstacionesEnSanJose.start_station_name.unique()):\n",
    "    folium.Marker(location=[lat,lon], popup=nombre).add_to(clusterDeUbicacionesSanJose)"
   ]
  },
  {
   "cell_type": "code",
   "execution_count": null,
   "metadata": {
    "collapsed": false
   },
   "outputs": [],
   "source": [
    "for startLat, startLon, startName, endLat, endLon, endName, cant in zip(dfViajesEntreEstacionesEnSanJoseTopN.start_station_lat,\\\n",
    "                                                                       dfViajesEntreEstacionesEnSanJoseTopN.start_station_long,\\\n",
    "                                                                       dfViajesEntreEstacionesEnSanJoseTopN.start_station_name,\\\n",
    "                                                                       dfViajesEntreEstacionesEnSanJoseTopN.end_station_lat,\\\n",
    "                                                                       dfViajesEntreEstacionesEnSanJoseTopN.end_station_long,\\\n",
    "                                                                       dfViajesEntreEstacionesEnSanJoseTopN.end_station_name,\\\n",
    "                                                                       dfViajesEntreEstacionesEnSanJoseTopN.cantidad):\n",
    "    folium.PolyLine(locations=[(startLat, startLon), (endLat, endLon)], color=coloresSanJoseTopN(cant), weight=5, opacity=1).add_to(topViajesEntreEstacionesEnSanJoseMap)\n",
    "topViajesEntreEstacionesEnSanJoseMap"
   ]
  },
  {
   "cell_type": "markdown",
   "metadata": {},
   "source": [
    "## Grafico con n estaciones menos activas\n"
   ]
  },
  {
   "cell_type": "code",
   "execution_count": null,
   "metadata": {
    "collapsed": true
   },
   "outputs": [],
   "source": [
    "n = 20"
   ]
  },
  {
   "cell_type": "code",
   "execution_count": null,
   "metadata": {
    "collapsed": true
   },
   "outputs": [],
   "source": [
    "cotaSuperiorSanJose = dfViajesEntreEstacionesEnSanJose.cantidad.nsmallest(n).max()"
   ]
  },
  {
   "cell_type": "code",
   "execution_count": null,
   "metadata": {
    "collapsed": false
   },
   "outputs": [],
   "source": [
    "dfViajesEntreEstacionesEnSanJoseBottomN = dfViajesEntreEstacionesEnSanJose[dfViajesEntreEstacionesEnSanJose['cantidad'] \\\n",
    "                                                                        <= cotaSuperiorSanJose]\n",
    "dfViajesEntreEstacionesEnSanJoseBottomN"
   ]
  },
  {
   "cell_type": "code",
   "execution_count": null,
   "metadata": {
    "collapsed": false
   },
   "outputs": [],
   "source": [
    "bottomViajesEntreEstacionesEnSanJoseMap = folium.Map(location=[latSanJosePromedio, longSanJosePromedio], tiles = \"Stamen Terrain\", zoom_start=14)\n",
    "bottomViajesEntreEstacionesEnSanJoseMap"
   ]
  },
  {
   "cell_type": "code",
   "execution_count": null,
   "metadata": {
    "collapsed": false
   },
   "outputs": [],
   "source": [
    "dfViajesEntreEstacionesEnSanJoseBottomN.cantidad.describe()"
   ]
  },
  {
   "cell_type": "code",
   "execution_count": null,
   "metadata": {
    "collapsed": false
   },
   "outputs": [],
   "source": [
    "coloresSanJoseBottomN = cm.StepColormap(['green', 'yellow', 'magenta', 'red'],\n",
    "                       vmin=1, vmax=13, index=[3, 5, 8, 10, 13],\n",
    "                       caption='step')\n",
    "coloresSanJoseBottomN.caption = 'Cantidad de viajes entre estaciones con menos viajes entre ellas en San Jose'\n",
    "\n",
    "coloresSanJoseBottomN2 = cm.linear.YlGn.scale(0, 13)\n",
    "\n",
    "coloresSanJoseBottomN"
   ]
  },
  {
   "cell_type": "code",
   "execution_count": null,
   "metadata": {
    "collapsed": false
   },
   "outputs": [],
   "source": [
    "bottomViajesEntreEstacionesEnSanJoseMap.add_child(coloresSanJoseBottomN)"
   ]
  },
  {
   "cell_type": "code",
   "execution_count": null,
   "metadata": {
    "collapsed": true
   },
   "outputs": [],
   "source": [
    "clusterDeUbicacionesSanJose = folium.MarkerCluster().add_to(bottomViajesEntreEstacionesEnSanJoseMap)\n",
    "for lat, lon, nombre in zip(dfViajesEntreEstacionesEnSanJose.start_station_lat.unique(), \\\n",
    "                            dfViajesEntreEstacionesEnSanJose.start_station_long.unique(), \\\n",
    "                            dfViajesEntreEstacionesEnSanJose.start_station_name.unique()):\n",
    "    folium.Marker(location=[lat,lon], popup=nombre).add_to(clusterDeUbicacionesSanJose)"
   ]
  },
  {
   "cell_type": "code",
   "execution_count": null,
   "metadata": {
    "collapsed": false
   },
   "outputs": [],
   "source": [
    "for startLat, startLon, startName, endLat, endLon, endName, cant in zip(dfViajesEntreEstacionesEnSanJoseBottomN.start_station_lat,\\\n",
    "                                                                       dfViajesEntreEstacionesEnSanJoseBottomN.start_station_long,\\\n",
    "                                                                       dfViajesEntreEstacionesEnSanJoseBottomN.start_station_name,\\\n",
    "                                                                       dfViajesEntreEstacionesEnSanJoseBottomN.end_station_lat,\\\n",
    "                                                                       dfViajesEntreEstacionesEnSanJoseBottomN.end_station_long,\\\n",
    "                                                                       dfViajesEntreEstacionesEnSanJoseBottomN.end_station_name,\\\n",
    "                                                                       dfViajesEntreEstacionesEnSanJoseBottomN.cantidad):\n",
    "    folium.PolyLine(locations=[(startLat, startLon), (endLat, endLon)], color=coloresSanJoseBottomN(cant), weight=5, opacity=1).add_to(bottomViajesEntreEstacionesEnSanJoseMap)\n",
    "bottomViajesEntreEstacionesEnSanJoseMap"
   ]
  },
  {
   "cell_type": "markdown",
   "metadata": {},
   "source": [
    "# Mapa con viajes en Mountain View"
   ]
  },
  {
   "cell_type": "code",
   "execution_count": null,
   "metadata": {
    "collapsed": false
   },
   "outputs": [],
   "source": [
    "dfViajesEntreEstacionesEnMountainView = (dfViajesEntreEstaciones[dfViajesEntreEstaciones.start_city == 'Mountain View']).drop('start_city', 1)\n",
    "dfViajesEntreEstacionesEnMountainView = (dfViajesEntreEstacionesEnMountainView[dfViajesEntreEstacionesEnMountainView.end_city == 'Mountain View']).drop('end_city', 1)\n",
    "dfViajesEntreEstacionesEnMountainView"
   ]
  },
  {
   "cell_type": "code",
   "execution_count": null,
   "metadata": {
    "collapsed": true
   },
   "outputs": [],
   "source": [
    "latMountainViewPromedio = dfViajesEntreEstacionesEnMountainView.start_station_lat.mean()\n",
    "longMountainViewPromedio = dfViajesEntreEstacionesEnMountainView.start_station_long.mean()"
   ]
  },
  {
   "cell_type": "code",
   "execution_count": null,
   "metadata": {
    "collapsed": false
   },
   "outputs": [],
   "source": [
    "viajesEntreEstacionesEnMountainViewMap = folium.Map(location=[latMountainViewPromedio, longMountainViewPromedio], tiles = \"Stamen Terrain\", zoom_start=14)\n",
    "viajesEntreEstacionesEnMountainViewMap"
   ]
  },
  {
   "cell_type": "code",
   "execution_count": null,
   "metadata": {
    "collapsed": false
   },
   "outputs": [],
   "source": [
    "dfViajesEntreEstacionesEnMountainView.cantidad.describe()"
   ]
  },
  {
   "cell_type": "code",
   "execution_count": null,
   "metadata": {
    "collapsed": true
   },
   "outputs": [],
   "source": [
    "maxCantidadDeViajesEnMountainView = dfViajesEntreEstacionesEnMountainView.cantidad.max()"
   ]
  },
  {
   "cell_type": "code",
   "execution_count": null,
   "metadata": {
    "collapsed": true
   },
   "outputs": [],
   "source": [
    "coloresMountainView = cm.StepColormap(['green', 'yellow', 'magenta', 'red'],\n",
    "                       vmin=1, vmax=maxCantidadDeViajesEnMountainView, index=[2, 30, 101, 280, maxCantidadDeViajesEnMountainView],\n",
    "                       caption='step')\n",
    "coloresMountainView.caption = 'Cantidad de viajes entre estaciones en Mountain View'\n",
    "coloresMountainView\n",
    "coloresSanJose2 = cm.linear.YlGn.scale(0, maxCantidadDeViajesEnMountainView)"
   ]
  },
  {
   "cell_type": "code",
   "execution_count": null,
   "metadata": {
    "collapsed": false
   },
   "outputs": [],
   "source": [
    "viajesEntreEstacionesEnMountainViewMap.add_child(coloresMountainView)"
   ]
  },
  {
   "cell_type": "code",
   "execution_count": null,
   "metadata": {
    "collapsed": true
   },
   "outputs": [],
   "source": [
    "clusterDeUbicacionesMountainView = folium.MarkerCluster().add_to(viajesEntreEstacionesEnMountainViewMap)\n",
    "for lat, lon, nombre in zip(dfViajesEntreEstacionesEnMountainView.start_station_lat.unique(), \\\n",
    "                            dfViajesEntreEstacionesEnMountainView.start_station_long.unique(), \\\n",
    "                            dfViajesEntreEstacionesEnMountainView.start_station_name.unique()):\n",
    "    folium.Marker(location=[lat,lon], popup=nombre).add_to(clusterDeUbicacionesMountainView)"
   ]
  },
  {
   "cell_type": "code",
   "execution_count": null,
   "metadata": {
    "collapsed": false
   },
   "outputs": [],
   "source": [
    "for startLat, startLon, startName, endLat, endLon, endName, cant in zip(dfViajesEntreEstacionesEnMountainView.start_station_lat,\\\n",
    "                                                                       dfViajesEntreEstacionesEnMountainView.start_station_long,\\\n",
    "                                                                       dfViajesEntreEstacionesEnMountainView.start_station_name,\\\n",
    "                                                                       dfViajesEntreEstacionesEnMountainView.end_station_lat,\\\n",
    "                                                                       dfViajesEntreEstacionesEnMountainView.end_station_long,\\\n",
    "                                                                       dfViajesEntreEstacionesEnMountainView.end_station_name,\\\n",
    "                                                                       dfViajesEntreEstacionesEnMountainView.cantidad):\n",
    "    folium.PolyLine(locations=[(startLat, startLon), (endLat, endLon)], color=coloresMountainView(cant), weight=3, opacity=1).add_to(viajesEntreEstacionesEnMountainViewMap)\n",
    "viajesEntreEstacionesEnMountainViewMap"
   ]
  },
  {
   "cell_type": "markdown",
   "metadata": {},
   "source": [
    "### Grafico con n estaciones menos activas"
   ]
  },
  {
   "cell_type": "code",
   "execution_count": null,
   "metadata": {
    "collapsed": true
   },
   "outputs": [],
   "source": [
    "n = 20"
   ]
  },
  {
   "cell_type": "code",
   "execution_count": null,
   "metadata": {
    "collapsed": true
   },
   "outputs": [],
   "source": [
    "cotaSuperiorMountainView = dfViajesEntreEstacionesEnMountainView.cantidad.nsmallest(n).max()"
   ]
  },
  {
   "cell_type": "code",
   "execution_count": null,
   "metadata": {
    "collapsed": false
   },
   "outputs": [],
   "source": [
    "dfViajesEntreEstacionesEnMountainViewBottomN = dfViajesEntreEstacionesEnMountainView[dfViajesEntreEstacionesEnMountainView['cantidad'] \\\n",
    "                                                                        <= cotaSuperiorMountainView]\n",
    "dfViajesEntreEstacionesEnMountainViewBottomN"
   ]
  },
  {
   "cell_type": "code",
   "execution_count": null,
   "metadata": {
    "collapsed": false
   },
   "outputs": [],
   "source": [
    "bottomViajesEntreEstacionesEnMountainViewMap = folium.Map(location=[latMountainViewPromedio, longMountainViewPromedio], tiles = \"Stamen Terrain\", zoom_start=14)\n",
    "bottomViajesEntreEstacionesEnMountainViewMap"
   ]
  },
  {
   "cell_type": "code",
   "execution_count": null,
   "metadata": {
    "collapsed": false
   },
   "outputs": [],
   "source": [
    "dfViajesEntreEstacionesEnMountainViewBottomN.cantidad.describe()"
   ]
  },
  {
   "cell_type": "code",
   "execution_count": null,
   "metadata": {
    "collapsed": false
   },
   "outputs": [],
   "source": [
    "coloresMountainViewBottomN = cm.StepColormap(['green', 'yellow', 'magenta', 'red'],\n",
    "                       vmin=1, vmax=67, index=[2, 8, 21, 45, 67],\n",
    "                       caption='step')\n",
    "coloresMountainViewBottomN.caption = 'Cantidad de viajes entre estaciones con menos viajes entre ellas en Mountain View'\n",
    "\n",
    "coloresMountainViewBottomN2 = cm.linear.YlGn.scale(0, 67)\n",
    "\n",
    "coloresMountainViewBottomN"
   ]
  },
  {
   "cell_type": "code",
   "execution_count": null,
   "metadata": {
    "collapsed": false
   },
   "outputs": [],
   "source": [
    "bottomViajesEntreEstacionesEnMountainViewMap.add_child(coloresMountainViewBottomN)"
   ]
  },
  {
   "cell_type": "code",
   "execution_count": null,
   "metadata": {
    "collapsed": true
   },
   "outputs": [],
   "source": [
    "clusterDeUbicacionesMountainView = folium.MarkerCluster().add_to(bottomViajesEntreEstacionesEnMountainViewMap)\n",
    "for lat, lon, nombre in zip(dfViajesEntreEstacionesEnMountainView.start_station_lat.unique(), \\\n",
    "                            dfViajesEntreEstacionesEnMountainView.start_station_long.unique(), \\\n",
    "                            dfViajesEntreEstacionesEnMountainView.start_station_name.unique()):\n",
    "    folium.Marker(location=[lat,lon], popup=nombre).add_to(clusterDeUbicacionesMountainView)"
   ]
  },
  {
   "cell_type": "code",
   "execution_count": null,
   "metadata": {
    "collapsed": false
   },
   "outputs": [],
   "source": [
    "for startLat, startLon, startName, endLat, endLon, endName, cant in zip(dfViajesEntreEstacionesEnMountainViewBottomN.start_station_lat,\\\n",
    "                                                                       dfViajesEntreEstacionesEnMountainViewBottomN.start_station_long,\\\n",
    "                                                                       dfViajesEntreEstacionesEnMountainViewBottomN.start_station_name,\\\n",
    "                                                                       dfViajesEntreEstacionesEnMountainViewBottomN.end_station_lat,\\\n",
    "                                                                       dfViajesEntreEstacionesEnMountainViewBottomN.end_station_long,\\\n",
    "                                                                       dfViajesEntreEstacionesEnMountainViewBottomN.end_station_name,\\\n",
    "                                                                       dfViajesEntreEstacionesEnMountainViewBottomN.cantidad):\n",
    "    folium.PolyLine(locations=[(startLat, startLon), (endLat, endLon)], color=coloresMountainViewBottomN(cant), weight=5, opacity=1).add_to(bottomViajesEntreEstacionesEnMountainViewMap)\n",
    "bottomViajesEntreEstacionesEnMountainViewMap"
   ]
  },
  {
   "cell_type": "markdown",
   "metadata": {},
   "source": [
    "# Mapa con viajes en San Francisco"
   ]
  },
  {
   "cell_type": "code",
   "execution_count": null,
   "metadata": {
    "collapsed": false
   },
   "outputs": [],
   "source": [
    "dfViajesEntreEstacionesEnSanFrancisco = (dfViajesEntreEstaciones[dfViajesEntreEstaciones.start_city == 'San Francisco']).drop('start_city', 1)\n",
    "dfViajesEntreEstacionesEnSanFrancisco = (dfViajesEntreEstacionesEnSanFrancisco[dfViajesEntreEstacionesEnSanFrancisco.end_city == 'San Francisco']).drop('end_city', 1)\n",
    "dfViajesEntreEstacionesEnSanFrancisco"
   ]
  },
  {
   "cell_type": "code",
   "execution_count": null,
   "metadata": {
    "collapsed": true
   },
   "outputs": [],
   "source": [
    "latSanFranciscoPromedio = dfViajesEntreEstacionesEnSanFrancisco.start_station_lat.mean()\n",
    "longSanFranciscoPromedio = dfViajesEntreEstacionesEnSanFrancisco.start_station_long.mean()"
   ]
  },
  {
   "cell_type": "code",
   "execution_count": null,
   "metadata": {
    "collapsed": false
   },
   "outputs": [],
   "source": [
    "viajesEntreEstacionesEnSanFranciscoMap = folium.Map(location=[latSanFranciscoPromedio, longSanFranciscoPromedio], tiles = \"Stamen Terrain\", zoom_start=14)\n",
    "viajesEntreEstacionesEnSanFranciscoMap"
   ]
  },
  {
   "cell_type": "code",
   "execution_count": null,
   "metadata": {
    "collapsed": false
   },
   "outputs": [],
   "source": [
    "dfViajesEntreEstacionesEnSanFrancisco.cantidad.describe()"
   ]
  },
  {
   "cell_type": "code",
   "execution_count": null,
   "metadata": {
    "collapsed": true
   },
   "outputs": [],
   "source": [
    "maxCantidadDeViajesEnSanFrancisco = dfViajesEntreEstacionesEnSanFrancisco.cantidad.max()"
   ]
  },
  {
   "cell_type": "code",
   "execution_count": null,
   "metadata": {
    "collapsed": true
   },
   "outputs": [],
   "source": [
    "coloresSanFrancisco = cm.StepColormap(['green', 'yellow', 'magenta', 'red'],\n",
    "                       vmin=1, vmax=maxCantidadDeViajesEnSanFrancisco, index=[9, 149, 284, 565, maxCantidadDeViajesEnSanFrancisco],\n",
    "                       caption='step')\n",
    "coloresSanFrancisco.caption = 'Cantidad de viajes entre estaciones en San Francisco'\n",
    "coloresSanFrancisco\n",
    "coloresSanFrancisco2 = cm.linear.YlGn.scale(0, maxCantidadDeViajesEnSanFrancisco)"
   ]
  },
  {
   "cell_type": "code",
   "execution_count": null,
   "metadata": {
    "collapsed": false
   },
   "outputs": [],
   "source": [
    "viajesEntreEstacionesEnSanFranciscoMap.add_child(coloresSanFrancisco)"
   ]
  },
  {
   "cell_type": "code",
   "execution_count": null,
   "metadata": {
    "collapsed": true
   },
   "outputs": [],
   "source": [
    "clusterDeUbicacionesSanFrancisco = folium.MarkerCluster().add_to(viajesEntreEstacionesEnSanFranciscoMap)\n",
    "for lat, lon, nombre in zip(dfViajesEntreEstacionesEnSanFrancisco.start_station_lat.unique(), \\\n",
    "                            dfViajesEntreEstacionesEnSanFrancisco.start_station_long.unique(), \\\n",
    "                            dfViajesEntreEstacionesEnSanFrancisco.start_station_name.unique()):\n",
    "    folium.Marker(location=[lat,lon], popup=nombre).add_to(clusterDeUbicacionesSanFrancisco)"
   ]
  },
  {
   "cell_type": "code",
   "execution_count": null,
   "metadata": {
    "collapsed": false
   },
   "outputs": [],
   "source": [
    "for startLat, startLon, startName, endLat, endLon, endName, cant in zip(dfViajesEntreEstacionesEnSanFrancisco.start_station_lat,\\\n",
    "                                                                       dfViajesEntreEstacionesEnSanFrancisco.start_station_long,\\\n",
    "                                                                       dfViajesEntreEstacionesEnSanFrancisco.start_station_name,\\\n",
    "                                                                       dfViajesEntreEstacionesEnSanFrancisco.end_station_lat,\\\n",
    "                                                                       dfViajesEntreEstacionesEnSanFrancisco.end_station_long,\\\n",
    "                                                                       dfViajesEntreEstacionesEnSanFrancisco.end_station_name,\\\n",
    "                                                                       dfViajesEntreEstacionesEnSanFrancisco.cantidad):\n",
    "    folium.PolyLine(locations=[(startLat, startLon), (endLat, endLon)], color=coloresSanFrancisco(cant), weight=3, opacity=1).add_to(viajesEntreEstacionesEnSanFranciscoMap)\n",
    "viajesEntreEstacionesEnSanFranciscoMap"
   ]
  },
  {
   "cell_type": "code",
   "execution_count": null,
   "metadata": {
    "collapsed": true
   },
   "outputs": [],
   "source": [
    "### Grafico con n estaciones mas activas"
   ]
  },
  {
   "cell_type": "code",
   "execution_count": null,
   "metadata": {
    "collapsed": true
   },
   "outputs": [],
   "source": [
    "n = 20"
   ]
  },
  {
   "cell_type": "code",
   "execution_count": null,
   "metadata": {
    "collapsed": true
   },
   "outputs": [],
   "source": [
    "cotaInferiorSanFrancisco = dfViajesEntreEstacionesEnSanFrancisco.cantidad.nlargest (n).min()"
   ]
  },
  {
   "cell_type": "code",
   "execution_count": null,
   "metadata": {
    "collapsed": false
   },
   "outputs": [],
   "source": [
    "dfViajesEntreEstacionesEnSanFranciscoTopN = dfViajesEntreEstacionesEnSanFrancisco[dfViajesEntreEstacionesEnSanFrancisco['cantidad'] \\\n",
    "                                                                        >= cotaInferiorSanFrancisco]\n",
    "dfViajesEntreEstacionesEnSanFranciscoTopN"
   ]
  },
  {
   "cell_type": "code",
   "execution_count": null,
   "metadata": {
    "collapsed": false
   },
   "outputs": [],
   "source": [
    "topViajesEntreEstacionesEnSanFranciscoMap = folium.Map(location=[latSanFranciscoPromedio, longSanFranciscoPromedio], tiles = \"Stamen Terrain\", zoom_start=14)\n",
    "topViajesEntreEstacionesEnSanFranciscoMap"
   ]
  },
  {
   "cell_type": "code",
   "execution_count": null,
   "metadata": {
    "collapsed": false
   },
   "outputs": [],
   "source": [
    "dfViajesEntreEstacionesEnSanFranciscoTopN.cantidad.describe()"
   ]
  },
  {
   "cell_type": "code",
   "execution_count": null,
   "metadata": {
    "collapsed": false
   },
   "outputs": [],
   "source": [
    "coloresSanFranciscoTopN = cm.StepColormap(['green', 'yellow', 'magenta', 'red'],\n",
    "                       vmin=1, vmax=maxCantidadDeViajesEnSanFrancisco, index=[3033, 3435, 3574, 4291, maxCantidadDeViajesEnSanFrancisco],\n",
    "                       caption='step')\n",
    "coloresSanFranciscoTopN.caption = 'Cantidad de viajes entre estaciones en San Francisco'\n",
    "\n",
    "coloresSanFranciscoTopN2 = cm.linear.YlGn.scale(0, maxCantidadDeViajesEnSanFrancisco)\n",
    "\n",
    "coloresSanFranciscoTopN"
   ]
  },
  {
   "cell_type": "code",
   "execution_count": null,
   "metadata": {
    "collapsed": false
   },
   "outputs": [],
   "source": [
    "topViajesEntreEstacionesEnSanFranciscoMap.add_child(coloresSanFranciscoTopN)"
   ]
  },
  {
   "cell_type": "code",
   "execution_count": null,
   "metadata": {
    "collapsed": true
   },
   "outputs": [],
   "source": [
    "clusterDeUbicacionesSanFrancisco = folium.MarkerCluster().add_to(topViajesEntreEstacionesEnSanFranciscoMap)\n",
    "for lat, lon, nombre in zip(dfViajesEntreEstacionesEnSanFrancisco.start_station_lat.unique(), \\\n",
    "                            dfViajesEntreEstacionesEnSanFrancisco.start_station_long.unique(), \\\n",
    "                            dfViajesEntreEstacionesEnSanFrancisco.start_station_name.unique()):\n",
    "    folium.Marker(location=[lat,lon], popup=nombre).add_to(clusterDeUbicacionesSanFrancisco)"
   ]
  },
  {
   "cell_type": "code",
   "execution_count": null,
   "metadata": {
    "collapsed": false
   },
   "outputs": [],
   "source": [
    "for startLat, startLon, startName, endLat, endLon, endName, cant in zip(dfViajesEntreEstacionesEnSanFranciscoTopN.start_station_lat,\\\n",
    "                                                                       dfViajesEntreEstacionesEnSanFranciscoTopN.start_station_long,\\\n",
    "                                                                       dfViajesEntreEstacionesEnSanFranciscoTopN.start_station_name,\\\n",
    "                                                                       dfViajesEntreEstacionesEnSanFranciscoTopN.end_station_lat,\\\n",
    "                                                                       dfViajesEntreEstacionesEnSanFranciscoTopN.end_station_long,\\\n",
    "                                                                       dfViajesEntreEstacionesEnSanFranciscoTopN.end_station_name,\\\n",
    "                                                                       dfViajesEntreEstacionesEnSanFranciscoTopN.cantidad):\n",
    "    folium.PolyLine(locations=[(startLat, startLon), (endLat, endLon)], color=coloresSanFranciscoTopN(cant), weight=5, opacity=1).add_to(topViajesEntreEstacionesEnSanFranciscoMap)\n",
    "topViajesEntreEstacionesEnSanFranciscoMap"
   ]
  },
  {
   "cell_type": "markdown",
   "metadata": {},
   "source": [
    "### Grafico con n estaciones menos activas"
   ]
  },
  {
   "cell_type": "code",
   "execution_count": null,
   "metadata": {
    "collapsed": true
   },
   "outputs": [],
   "source": [
    "n = 20"
   ]
  },
  {
   "cell_type": "code",
   "execution_count": null,
   "metadata": {
    "collapsed": true
   },
   "outputs": [],
   "source": [
    "cotaSuperiorSanFrancisco = dfViajesEntreEstacionesEnSanFrancisco.cantidad.nsmallest(n).max()"
   ]
  },
  {
   "cell_type": "code",
   "execution_count": null,
   "metadata": {
    "collapsed": false
   },
   "outputs": [],
   "source": [
    "dfViajesEntreEstacionesEnSanFranciscoBottomN = dfViajesEntreEstacionesEnSanFrancisco[dfViajesEntreEstacionesEnSanFrancisco['cantidad'] \\\n",
    "                                                                        <= cotaSuperiorSanFrancisco]\n",
    "dfViajesEntreEstacionesEnSanFranciscoBottomN"
   ]
  },
  {
   "cell_type": "code",
   "execution_count": null,
   "metadata": {
    "collapsed": false
   },
   "outputs": [],
   "source": [
    "bottomViajesEntreEstacionesEnSanFranciscoMap = folium.Map(location=[latSanFranciscoPromedio, longSanFranciscoPromedio], tiles = \"Stamen Terrain\", zoom_start=14)\n",
    "bottomViajesEntreEstacionesEnSanFranciscoMap"
   ]
  },
  {
   "cell_type": "code",
   "execution_count": null,
   "metadata": {
    "collapsed": false
   },
   "outputs": [],
   "source": [
    "dfViajesEntreEstacionesEnSanFranciscoBottomN.cantidad.describe()"
   ]
  },
  {
   "cell_type": "code",
   "execution_count": null,
   "metadata": {
    "collapsed": false
   },
   "outputs": [],
   "source": [
    "coloresSanFranciscoBottomN = cm.StepColormap(['green', 'yellow', 'magenta', 'red'],\n",
    "                       vmin=1, vmax=30, index=[9, 15, 21, 26, 30],\n",
    "                       caption='step')\n",
    "coloresSanFranciscoBottomN.caption = 'Cantidad de viajes entre estaciones con menos viajes entre ellas en San Francisco'\n",
    "\n",
    "coloresSanFranciscoBottomN2 = cm.linear.YlGn.scale(0, 13)\n",
    "\n",
    "coloresSanFranciscoBottomN"
   ]
  },
  {
   "cell_type": "code",
   "execution_count": null,
   "metadata": {
    "collapsed": false
   },
   "outputs": [],
   "source": [
    "bottomViajesEntreEstacionesEnSanFranciscoMap.add_child(coloresSanFranciscoBottomN)"
   ]
  },
  {
   "cell_type": "code",
   "execution_count": null,
   "metadata": {
    "collapsed": true
   },
   "outputs": [],
   "source": [
    "clusterDeUbicacionesSanFrancisco = folium.MarkerCluster().add_to(bottomViajesEntreEstacionesEnSanFranciscoMap)\n",
    "for lat, lon, nombre in zip(dfViajesEntreEstacionesEnSanFrancisco.start_station_lat.unique(), \\\n",
    "                            dfViajesEntreEstacionesEnSanFrancisco.start_station_long.unique(), \\\n",
    "                            dfViajesEntreEstacionesEnSanFrancisco.start_station_name.unique()):\n",
    "    folium.Marker(location=[lat,lon], popup=nombre).add_to(clusterDeUbicacionesSanFrancisco)"
   ]
  },
  {
   "cell_type": "code",
   "execution_count": null,
   "metadata": {
    "collapsed": false
   },
   "outputs": [],
   "source": [
    "for startLat, startLon, startName, endLat, endLon, endName, cant in zip(dfViajesEntreEstacionesEnSanFranciscoBottomN.start_station_lat,\\\n",
    "                                                                       dfViajesEntreEstacionesEnSanFranciscoBottomN.start_station_long,\\\n",
    "                                                                       dfViajesEntreEstacionesEnSanFranciscoBottomN.start_station_name,\\\n",
    "                                                                       dfViajesEntreEstacionesEnSanFranciscoBottomN.end_station_lat,\\\n",
    "                                                                       dfViajesEntreEstacionesEnSanFranciscoBottomN.end_station_long,\\\n",
    "                                                                       dfViajesEntreEstacionesEnSanFranciscoBottomN.end_station_name,\\\n",
    "                                                                       dfViajesEntreEstacionesEnSanFranciscoBottomN.cantidad):\n",
    "    folium.PolyLine(locations=[(startLat, startLon), (endLat, endLon)], color=coloresSanFranciscoBottomN(cant), weight=5, opacity=1).add_to(bottomViajesEntreEstacionesEnSanFranciscoMap)\n",
    "bottomViajesEntreEstacionesEnSanFranciscoMap"
   ]
  },
  {
   "cell_type": "markdown",
   "metadata": {},
   "source": [
    "# Mapa con viajes en Redwood City"
   ]
  },
  {
   "cell_type": "code",
   "execution_count": null,
   "metadata": {
    "collapsed": false
   },
   "outputs": [],
   "source": [
    "dfViajesEntreEstacionesEnRedwoodCity = (dfViajesEntreEstaciones[dfViajesEntreEstaciones.start_city == 'Redwood City']).drop('start_city', 1)\n",
    "dfViajesEntreEstacionesEnRedwoodCity = (dfViajesEntreEstacionesEnRedwoodCity[dfViajesEntreEstacionesEnRedwoodCity.end_city == 'Redwood City']).drop('end_city', 1)\n",
    "dfViajesEntreEstacionesEnRedwoodCity"
   ]
  },
  {
   "cell_type": "code",
   "execution_count": null,
   "metadata": {
    "collapsed": true
   },
   "outputs": [],
   "source": [
    "latRedwoodCityPromedio = dfViajesEntreEstacionesEnRedwoodCity.start_station_lat.mean()\n",
    "longRedwoodCityPromedio = dfViajesEntreEstacionesEnRedwoodCity.start_station_long.mean()"
   ]
  },
  {
   "cell_type": "code",
   "execution_count": null,
   "metadata": {
    "collapsed": false
   },
   "outputs": [],
   "source": [
    "viajesEntreEstacionesEnRedwoodCityMap = folium.Map(location=[latRedwoodCityPromedio, longRedwoodCityPromedio], tiles = \"Stamen Terrain\", zoom_start=15)\n",
    "viajesEntreEstacionesEnRedwoodCityMap"
   ]
  },
  {
   "cell_type": "code",
   "execution_count": null,
   "metadata": {
    "collapsed": false
   },
   "outputs": [],
   "source": [
    "dfViajesEntreEstacionesEnRedwoodCity.cantidad.describe()"
   ]
  },
  {
   "cell_type": "code",
   "execution_count": null,
   "metadata": {
    "collapsed": true
   },
   "outputs": [],
   "source": [
    "maxCantidadDeViajesEnRedwoodCity = dfViajesEntreEstacionesEnRedwoodCity.cantidad.max()"
   ]
  },
  {
   "cell_type": "code",
   "execution_count": null,
   "metadata": {
    "collapsed": true
   },
   "outputs": [],
   "source": [
    "coloresRedwoodCity = cm.StepColormap(['green', 'yellow', 'magenta', 'red'],\n",
    "                       vmin=1, vmax=maxCantidadDeViajesEnRedwoodCity, index=[1, 9, 25, 74, maxCantidadDeViajesEnRedwoodCity],\n",
    "                       caption='step')\n",
    "coloresRedwoodCity.caption = 'Cantidad de viajes entre estaciones en Redwood City'\n",
    "coloresRedwoodCity\n",
    "coloresRedwoodCity2 = cm.linear.YlGn.scale(0, maxCantidadDeViajesEnRedwoodCity)"
   ]
  },
  {
   "cell_type": "code",
   "execution_count": null,
   "metadata": {
    "collapsed": false
   },
   "outputs": [],
   "source": [
    "viajesEntreEstacionesEnRedwoodCityMap.add_child(coloresRedwoodCity)"
   ]
  },
  {
   "cell_type": "code",
   "execution_count": null,
   "metadata": {
    "collapsed": true
   },
   "outputs": [],
   "source": [
    "clusterDeUbicacionesRedwoodCity = folium.MarkerCluster().add_to(viajesEntreEstacionesEnRedwoodCityMap)\n",
    "for lat, lon, nombre in zip(dfViajesEntreEstacionesEnRedwoodCity.start_station_lat.unique(), \\\n",
    "                            dfViajesEntreEstacionesEnRedwoodCity.start_station_long.unique(), \\\n",
    "                            dfViajesEntreEstacionesEnRedwoodCity.start_station_name.unique()):\n",
    "    folium.Marker(location=[lat,lon], popup=nombre).add_to(clusterDeUbicacionesRedwoodCity)"
   ]
  },
  {
   "cell_type": "code",
   "execution_count": null,
   "metadata": {
    "collapsed": false
   },
   "outputs": [],
   "source": [
    "for startLat, startLon, startName, endLat, endLon, endName, cant in zip(dfViajesEntreEstacionesEnRedwoodCity.start_station_lat,\\\n",
    "                                                                       dfViajesEntreEstacionesEnRedwoodCity.start_station_long,\\\n",
    "                                                                       dfViajesEntreEstacionesEnRedwoodCity.start_station_name,\\\n",
    "                                                                       dfViajesEntreEstacionesEnRedwoodCity.end_station_lat,\\\n",
    "                                                                       dfViajesEntreEstacionesEnRedwoodCity.end_station_long,\\\n",
    "                                                                       dfViajesEntreEstacionesEnRedwoodCity.end_station_name,\\\n",
    "                                                                       dfViajesEntreEstacionesEnRedwoodCity.cantidad):\n",
    "    folium.PolyLine(locations=[(startLat, startLon), (endLat, endLon)], color=coloresRedwoodCity(cant), weight=3, opacity=1).add_to(viajesEntreEstacionesEnRedwoodCityMap)\n",
    "viajesEntreEstacionesEnRedwoodCityMap"
   ]
  },
  {
   "cell_type": "markdown",
   "metadata": {},
   "source": [
    "### Grafico con n estaciones mas activas"
   ]
  },
  {
   "cell_type": "code",
   "execution_count": null,
   "metadata": {
    "collapsed": true
   },
   "outputs": [],
   "source": [
    "n = 20"
   ]
  },
  {
   "cell_type": "code",
   "execution_count": null,
   "metadata": {
    "collapsed": true
   },
   "outputs": [],
   "source": [
    "cotaInferiorRedwoodCity = dfViajesEntreEstacionesEnRedwoodCity.cantidad.nlargest (n).min()"
   ]
  },
  {
   "cell_type": "code",
   "execution_count": null,
   "metadata": {
    "collapsed": false
   },
   "outputs": [],
   "source": [
    "dfViajesEntreEstacionesEnRedwoodCityTopN = dfViajesEntreEstacionesEnRedwoodCity[dfViajesEntreEstacionesEnRedwoodCity['cantidad'] \\\n",
    "                                                                        >= cotaInferiorRedwoodCity]\n",
    "dfViajesEntreEstacionesEnRedwoodCityTopN"
   ]
  },
  {
   "cell_type": "code",
   "execution_count": null,
   "metadata": {
    "collapsed": false
   },
   "outputs": [],
   "source": [
    "topViajesEntreEstacionesEnRedwoodCityMap = folium.Map(location=[latRedwoodCityPromedio, longRedwoodCityPromedio], tiles = \"Stamen Terrain\", zoom_start=14)\n",
    "topViajesEntreEstacionesEnRedwoodCityMap"
   ]
  },
  {
   "cell_type": "code",
   "execution_count": null,
   "metadata": {
    "collapsed": false
   },
   "outputs": [],
   "source": [
    "dfViajesEntreEstacionesEnRedwoodCityTopN.cantidad.describe()"
   ]
  },
  {
   "cell_type": "code",
   "execution_count": null,
   "metadata": {
    "collapsed": false
   },
   "outputs": [],
   "source": [
    "coloresRedwoodCityTopN = cm.StepColormap(['green', 'yellow', 'magenta', 'red'],\n",
    "                       vmin=1, vmax=maxCantidadDeViajesEnRedwoodCity, index=[38, 63, 113, 214, maxCantidadDeViajesEnSanJose],\n",
    "                       caption='step')\n",
    "coloresRedwoodCityTopN.caption = 'Cantidad de viajes entre estaciones en Redwood City'\n",
    "\n",
    "coloresRedwoodCityTopN2 = cm.linear.YlGn.scale(0, maxCantidadDeViajesEnRedwoodCity)\n",
    "\n",
    "coloresRedwoodCityTopN"
   ]
  },
  {
   "cell_type": "code",
   "execution_count": null,
   "metadata": {
    "collapsed": false
   },
   "outputs": [],
   "source": [
    "topViajesEntreEstacionesEnRedwoodCityMap.add_child(coloresRedwoodCityTopN)"
   ]
  },
  {
   "cell_type": "code",
   "execution_count": null,
   "metadata": {
    "collapsed": true
   },
   "outputs": [],
   "source": [
    "clusterDeUbicacionesRedwoodCity = folium.MarkerCluster().add_to(topViajesEntreEstacionesEnRedwoodCityMap)\n",
    "for lat, lon, nombre in zip(dfViajesEntreEstacionesEnRedwoodCity.start_station_lat.unique(), \\\n",
    "                            dfViajesEntreEstacionesEnRedwoodCity.start_station_long.unique(), \\\n",
    "                            dfViajesEntreEstacionesEnRedwoodCity.start_station_name.unique()):\n",
    "    folium.Marker(location=[lat,lon], popup=nombre).add_to(clusterDeUbicacionesRedwoodCity)"
   ]
  },
  {
   "cell_type": "code",
   "execution_count": null,
   "metadata": {
    "collapsed": false
   },
   "outputs": [],
   "source": [
    "for startLat, startLon, startName, endLat, endLon, endName, cant in zip(dfViajesEntreEstacionesEnRedwoodCityTopN.start_station_lat,\\\n",
    "                                                                       dfViajesEntreEstacionesEnRedwoodCityTopN.start_station_long,\\\n",
    "                                                                       dfViajesEntreEstacionesEnRedwoodCityTopN.start_station_name,\\\n",
    "                                                                       dfViajesEntreEstacionesEnRedwoodCityTopN.end_station_lat,\\\n",
    "                                                                       dfViajesEntreEstacionesEnRedwoodCityTopN.end_station_long,\\\n",
    "                                                                       dfViajesEntreEstacionesEnRedwoodCityTopN.end_station_name,\\\n",
    "                                                                       dfViajesEntreEstacionesEnRedwoodCityTopN.cantidad):\n",
    "    folium.PolyLine(locations=[(startLat, startLon), (endLat, endLon)], color=coloresRedwoodCityTopN(cant), weight=5, opacity=1).add_to(topViajesEntreEstacionesEnRedwoodCityMap)\n",
    "topViajesEntreEstacionesEnRedwoodCityMap"
   ]
  },
  {
   "cell_type": "markdown",
   "metadata": {},
   "source": [
    "### Grafico con n estaciones menos activas"
   ]
  },
  {
   "cell_type": "code",
   "execution_count": null,
   "metadata": {
    "collapsed": true
   },
   "outputs": [],
   "source": [
    "n = 20"
   ]
  },
  {
   "cell_type": "code",
   "execution_count": null,
   "metadata": {
    "collapsed": true
   },
   "outputs": [],
   "source": [
    "cotaSuperiorRedwoodCity = dfViajesEntreEstacionesEnRedwoodCity.cantidad.nsmallest(n).max()"
   ]
  },
  {
   "cell_type": "code",
   "execution_count": null,
   "metadata": {
    "collapsed": false
   },
   "outputs": [],
   "source": [
    "dfViajesEntreEstacionesEnRedwoodCityBottomN = dfViajesEntreEstacionesEnRedwoodCity[dfViajesEntreEstacionesEnRedwoodCity['cantidad'] \\\n",
    "                                                                        <= cotaSuperiorRedwoodCity]\n",
    "dfViajesEntreEstacionesEnRedwoodCityBottomN"
   ]
  },
  {
   "cell_type": "code",
   "execution_count": null,
   "metadata": {
    "collapsed": false
   },
   "outputs": [],
   "source": [
    "bottomViajesEntreEstacionesEnRedwoodCityMap = folium.Map(location=[latRedwoodCityPromedio, longRedwoodCityPromedio], tiles = \"Stamen Terrain\", zoom_start=14)\n",
    "bottomViajesEntreEstacionesEnRedwoodCityMap"
   ]
  },
  {
   "cell_type": "code",
   "execution_count": null,
   "metadata": {
    "collapsed": false
   },
   "outputs": [],
   "source": [
    "dfViajesEntreEstacionesEnRedwoodCityBottomN.cantidad.describe()"
   ]
  },
  {
   "cell_type": "code",
   "execution_count": null,
   "metadata": {
    "collapsed": false
   },
   "outputs": [],
   "source": [
    "coloresRedwoodCityBottomN = cm.StepColormap(['green', 'yellow', 'magenta', 'red'],\n",
    "                       vmin=1, vmax=17, index=[1, 4, 7, 11, 17],\n",
    "                       caption='step')\n",
    "coloresRedwoodCityBottomN.caption = 'Cantidad de viajes entre estaciones con menos viajes entre ellas en Redwood City'\n",
    "\n",
    "coloresRedwoodCityBottomN2 = cm.linear.YlGn.scale(0, 13)\n",
    "\n",
    "coloresRedwoodCityBottomN"
   ]
  },
  {
   "cell_type": "code",
   "execution_count": null,
   "metadata": {
    "collapsed": false
   },
   "outputs": [],
   "source": [
    "bottomViajesEntreEstacionesEnRedwoodCityMap.add_child(coloresRedwoodCityBottomN)"
   ]
  },
  {
   "cell_type": "code",
   "execution_count": null,
   "metadata": {
    "collapsed": true
   },
   "outputs": [],
   "source": [
    "clusterDeUbicacionesRedwoodCity = folium.MarkerCluster().add_to(bottomViajesEntreEstacionesEnRedwoodCityMap)\n",
    "for lat, lon, nombre in zip(dfViajesEntreEstacionesEnRedwoodCity.start_station_lat.unique(), \\\n",
    "                            dfViajesEntreEstacionesEnRedwoodCity.start_station_long.unique(), \\\n",
    "                            dfViajesEntreEstacionesEnRedwoodCity.start_station_name.unique()):\n",
    "    folium.Marker(location=[lat,lon], popup=nombre).add_to(clusterDeUbicacionesRedwoodCity)"
   ]
  },
  {
   "cell_type": "code",
   "execution_count": null,
   "metadata": {
    "collapsed": false
   },
   "outputs": [],
   "source": [
    "for startLat, startLon, startName, endLat, endLon, endName, cant in zip(dfViajesEntreEstacionesEnRedwoodCityBottomN.start_station_lat,\\\n",
    "                                                                       dfViajesEntreEstacionesEnRedwoodCityBottomN.start_station_long,\\\n",
    "                                                                       dfViajesEntreEstacionesEnRedwoodCityBottomN.start_station_name,\\\n",
    "                                                                       dfViajesEntreEstacionesEnRedwoodCityBottomN.end_station_lat,\\\n",
    "                                                                       dfViajesEntreEstacionesEnRedwoodCityBottomN.end_station_long,\\\n",
    "                                                                       dfViajesEntreEstacionesEnRedwoodCityBottomN.end_station_name,\\\n",
    "                                                                       dfViajesEntreEstacionesEnRedwoodCityBottomN.cantidad):\n",
    "    folium.PolyLine(locations=[(startLat, startLon), (endLat, endLon)], color=coloresRedwoodCityBottomN(cant), weight=5, opacity=1).add_to(bottomViajesEntreEstacionesEnRedwoodCityMap)\n",
    "bottomViajesEntreEstacionesEnRedwoodCityMap"
   ]
  },
  {
   "cell_type": "markdown",
   "metadata": {},
   "source": [
    "# Mapa con viajes en Palo Alto"
   ]
  },
  {
   "cell_type": "code",
   "execution_count": null,
   "metadata": {
    "collapsed": false
   },
   "outputs": [],
   "source": [
    "dfViajesEntreEstacionesEnPaloAlto = (dfViajesEntreEstaciones[dfViajesEntreEstaciones.start_city == 'Palo Alto']).drop('start_city', 1)\n",
    "dfViajesEntreEstacionesEnPaloAlto = (dfViajesEntreEstacionesEnPaloAlto[dfViajesEntreEstacionesEnPaloAlto.end_city == 'Palo Alto']).drop('end_city', 1)\n",
    "dfViajesEntreEstacionesEnPaloAlto"
   ]
  },
  {
   "cell_type": "code",
   "execution_count": null,
   "metadata": {
    "collapsed": true
   },
   "outputs": [],
   "source": [
    "latPaloAltoPromedio = dfViajesEntreEstacionesEnPaloAlto.start_station_lat.mean()\n",
    "longPaloAltoPromedio = dfViajesEntreEstacionesEnPaloAlto.start_station_long.mean()"
   ]
  },
  {
   "cell_type": "code",
   "execution_count": null,
   "metadata": {
    "collapsed": false
   },
   "outputs": [],
   "source": [
    "viajesEntreEstacionesEnPaloAltoMap = folium.Map(location=[latPaloAltoPromedio, longPaloAltoPromedio], tiles = \"Stamen Terrain\", zoom_start=13)\n",
    "viajesEntreEstacionesEnPaloAltoMap"
   ]
  },
  {
   "cell_type": "code",
   "execution_count": null,
   "metadata": {
    "collapsed": false
   },
   "outputs": [],
   "source": [
    "dfViajesEntreEstacionesEnPaloAlto.cantidad.describe()"
   ]
  },
  {
   "cell_type": "code",
   "execution_count": null,
   "metadata": {
    "collapsed": true
   },
   "outputs": [],
   "source": [
    "maxCantidadDeViajesEnPaloAlto = dfViajesEntreEstacionesEnPaloAlto.cantidad.max()"
   ]
  },
  {
   "cell_type": "code",
   "execution_count": null,
   "metadata": {
    "collapsed": true
   },
   "outputs": [],
   "source": [
    "coloresPaloAlto = cm.StepColormap(['green', 'yellow', 'magenta', 'red'],\n",
    "                       vmin=1, vmax=maxCantidadDeViajesEnPaloAlto, index=[56, 91, 169, 279, maxCantidadDeViajesEnPaloAlto],\n",
    "                       caption='step')\n",
    "coloresPaloAlto.caption = 'Cantidad de viajes entre estaciones en Palo Alto'\n",
    "coloresPaloAlto\n",
    "coloresPaloAlto2 = cm.linear.YlGn.scale(0, maxCantidadDeViajesEnPaloAlto)"
   ]
  },
  {
   "cell_type": "code",
   "execution_count": null,
   "metadata": {
    "collapsed": false
   },
   "outputs": [],
   "source": [
    "viajesEntreEstacionesEnPaloAltoMap.add_child(coloresPaloAlto)"
   ]
  },
  {
   "cell_type": "code",
   "execution_count": null,
   "metadata": {
    "collapsed": true
   },
   "outputs": [],
   "source": [
    "clusterDeUbicacionesPaloAlto = folium.MarkerCluster().add_to(viajesEntreEstacionesEnPaloAltoMap)\n",
    "for lat, lon, nombre in zip(dfViajesEntreEstacionesEnPaloAlto.start_station_lat.unique(), \\\n",
    "                            dfViajesEntreEstacionesEnPaloAlto.start_station_long.unique(), \\\n",
    "                            dfViajesEntreEstacionesEnPaloAlto.start_station_name.unique()):\n",
    "    folium.Marker(location=[lat,lon], popup=nombre).add_to(clusterDeUbicacionesPaloAlto)"
   ]
  },
  {
   "cell_type": "code",
   "execution_count": null,
   "metadata": {
    "collapsed": false
   },
   "outputs": [],
   "source": [
    "for startLat, startLon, startName, endLat, endLon, endName, cant in zip(dfViajesEntreEstacionesEnPaloAlto.start_station_lat,\\\n",
    "                                                                       dfViajesEntreEstacionesEnPaloAlto.start_station_long,\\\n",
    "                                                                       dfViajesEntreEstacionesEnPaloAlto.start_station_name,\\\n",
    "                                                                       dfViajesEntreEstacionesEnPaloAlto.end_station_lat,\\\n",
    "                                                                       dfViajesEntreEstacionesEnPaloAlto.end_station_long,\\\n",
    "                                                                       dfViajesEntreEstacionesEnPaloAlto.end_station_name,\\\n",
    "                                                                       dfViajesEntreEstacionesEnPaloAlto.cantidad):\n",
    "    folium.PolyLine(locations=[(startLat, startLon), (endLat, endLon)], color=coloresPaloAlto(cant), weight=3, opacity=1).add_to(viajesEntreEstacionesEnPaloAltoMap)\n",
    "viajesEntreEstacionesEnPaloAltoMap"
   ]
  },
  {
   "cell_type": "markdown",
   "metadata": {},
   "source": [
    "### Grafico con n estaciones mas activas"
   ]
  },
  {
   "cell_type": "code",
   "execution_count": null,
   "metadata": {
    "collapsed": true
   },
   "outputs": [],
   "source": [
    "n = 20"
   ]
  },
  {
   "cell_type": "code",
   "execution_count": null,
   "metadata": {
    "collapsed": true
   },
   "outputs": [],
   "source": [
    "cotaInferiorPaloAlto = dfViajesEntreEstacionesEnPaloAlto.cantidad.nlargest (n).min()"
   ]
  },
  {
   "cell_type": "code",
   "execution_count": null,
   "metadata": {
    "collapsed": false
   },
   "outputs": [],
   "source": [
    "dfViajesEntreEstacionesEnPaloAltoTopN = dfViajesEntreEstacionesEnPaloAlto[dfViajesEntreEstacionesEnPaloAlto['cantidad'] \\\n",
    "                                                                        >= cotaInferiorPaloAlto]\n",
    "dfViajesEntreEstacionesEnPaloAltoTopN"
   ]
  },
  {
   "cell_type": "code",
   "execution_count": null,
   "metadata": {
    "collapsed": false
   },
   "outputs": [],
   "source": [
    "topViajesEntreEstacionesEnPaloAltoMap = folium.Map(location=[latPaloAltoPromedio, longPaloAltoPromedio], tiles = \"Stamen Terrain\", zoom_start=14)\n",
    "topViajesEntreEstacionesEnPaloAltoMap"
   ]
  },
  {
   "cell_type": "code",
   "execution_count": null,
   "metadata": {
    "collapsed": false
   },
   "outputs": [],
   "source": [
    "dfViajesEntreEstacionesEnPaloAltoTopN.cantidad.describe()"
   ]
  },
  {
   "cell_type": "code",
   "execution_count": null,
   "metadata": {
    "collapsed": false
   },
   "outputs": [],
   "source": [
    "coloresPaloAltoTopN = cm.StepColormap(['green', 'yellow', 'magenta', 'red'],\n",
    "                       vmin=1, vmax=maxCantidadDeViajesEnPaloAlto, index=[90, 121, 234, 373, maxCantidadDeViajesEnPaloAlto],\n",
    "                       caption='step')\n",
    "coloresPaloAltoTopN.caption = 'Cantidad de viajes entre estaciones en Palo Alto'\n",
    "\n",
    "coloresPaloAltoTopN2 = cm.linear.YlGn.scale(0, maxCantidadDeViajesEnPaloAlto)\n",
    "\n",
    "coloresPaloAltoTopN"
   ]
  },
  {
   "cell_type": "code",
   "execution_count": null,
   "metadata": {
    "collapsed": false
   },
   "outputs": [],
   "source": [
    "topViajesEntreEstacionesEnPaloAltoMap.add_child(coloresPaloAltoTopN)"
   ]
  },
  {
   "cell_type": "code",
   "execution_count": null,
   "metadata": {
    "collapsed": true
   },
   "outputs": [],
   "source": [
    "clusterDeUbicacionesPaloAlto = folium.MarkerCluster().add_to(topViajesEntreEstacionesEnPaloAltoMap)\n",
    "for lat, lon, nombre in zip(dfViajesEntreEstacionesEnPaloAlto.start_station_lat.unique(), \\\n",
    "                            dfViajesEntreEstacionesEnPaloAlto.start_station_long.unique(), \\\n",
    "                            dfViajesEntreEstacionesEnPaloAlto.start_station_name.unique()):\n",
    "    folium.Marker(location=[lat,lon], popup=nombre).add_to(clusterDeUbicacionesPaloAlto)"
   ]
  },
  {
   "cell_type": "code",
   "execution_count": null,
   "metadata": {
    "collapsed": false
   },
   "outputs": [],
   "source": [
    "for startLat, startLon, startName, endLat, endLon, endName, cant in zip(dfViajesEntreEstacionesEnPaloAltoTopN.start_station_lat,\\\n",
    "                                                                       dfViajesEntreEstacionesEnPaloAltoTopN.start_station_long,\\\n",
    "                                                                       dfViajesEntreEstacionesEnPaloAltoTopN.start_station_name,\\\n",
    "                                                                       dfViajesEntreEstacionesEnPaloAltoTopN.end_station_lat,\\\n",
    "                                                                       dfViajesEntreEstacionesEnPaloAltoTopN.end_station_long,\\\n",
    "                                                                       dfViajesEntreEstacionesEnPaloAltoTopN.end_station_name,\\\n",
    "                                                                       dfViajesEntreEstacionesEnPaloAltoTopN.cantidad):\n",
    "    folium.PolyLine(locations=[(startLat, startLon), (endLat, endLon)], color=coloresPaloAltoTopN(cant), weight=5, opacity=1).add_to(topViajesEntreEstacionesEnPaloAltoMap)\n",
    "topViajesEntreEstacionesEnPaloAltoMap"
   ]
  },
  {
   "cell_type": "markdown",
   "metadata": {},
   "source": [
    "### Grafico con n estaciones menos activas"
   ]
  },
  {
   "cell_type": "code",
   "execution_count": null,
   "metadata": {
    "collapsed": true
   },
   "outputs": [],
   "source": [
    "n = 20"
   ]
  },
  {
   "cell_type": "code",
   "execution_count": null,
   "metadata": {
    "collapsed": true
   },
   "outputs": [],
   "source": [
    "cotaSuperiorPaloAlto = dfViajesEntreEstacionesEnPaloAlto.cantidad.nsmallest(n).max()"
   ]
  },
  {
   "cell_type": "code",
   "execution_count": null,
   "metadata": {
    "collapsed": false
   },
   "outputs": [],
   "source": [
    "dfViajesEntreEstacionesEnPaloAltoBottomN = dfViajesEntreEstacionesEnPaloAlto[dfViajesEntreEstacionesEnPaloAlto['cantidad'] \\\n",
    "                                                                        <= cotaSuperiorPaloAlto]\n",
    "dfViajesEntreEstacionesEnPaloAltoBottomN"
   ]
  },
  {
   "cell_type": "code",
   "execution_count": null,
   "metadata": {
    "collapsed": false
   },
   "outputs": [],
   "source": [
    "bottomViajesEntreEstacionesEnPaloAltoMap = folium.Map(location=[latPaloAltoPromedio, longPaloAltoPromedio], tiles = \"Stamen Terrain\", zoom_start=14)\n",
    "bottomViajesEntreEstacionesEnPaloAltoMap"
   ]
  },
  {
   "cell_type": "code",
   "execution_count": null,
   "metadata": {
    "collapsed": false
   },
   "outputs": [],
   "source": [
    "dfViajesEntreEstacionesEnPaloAltoBottomN.cantidad.describe()"
   ]
  },
  {
   "cell_type": "code",
   "execution_count": null,
   "metadata": {
    "collapsed": false
   },
   "outputs": [],
   "source": [
    "coloresPaloAltoBottomN = cm.StepColormap(['green', 'yellow', 'magenta', 'red'],\n",
    "                       vmin=1, vmax=366, index=[56, 89, 118, 223, 366],\n",
    "                       caption='step')\n",
    "coloresPaloAltoBottomN.caption = 'Cantidad de viajes entre estaciones con menos viajes entre ellas en Palo Alto'\n",
    "\n",
    "coloresPaloAltoBottomN2 = cm.linear.YlGn.scale(0, 366)\n",
    "\n",
    "coloresPaloAltoBottomN"
   ]
  },
  {
   "cell_type": "code",
   "execution_count": null,
   "metadata": {
    "collapsed": false
   },
   "outputs": [],
   "source": [
    "bottomViajesEntreEstacionesEnPaloAltoMap.add_child(coloresPaloAltoBottomN)"
   ]
  },
  {
   "cell_type": "code",
   "execution_count": null,
   "metadata": {
    "collapsed": true
   },
   "outputs": [],
   "source": [
    "clusterDeUbicacionesPaloAlto = folium.MarkerCluster().add_to(bottomViajesEntreEstacionesEnPaloAltoMap)\n",
    "for lat, lon, nombre in zip(dfViajesEntreEstacionesEnPaloAlto.start_station_lat.unique(), \\\n",
    "                            dfViajesEntreEstacionesEnPaloAlto.start_station_long.unique(), \\\n",
    "                            dfViajesEntreEstacionesEnPaloAlto.start_station_name.unique()):\n",
    "    folium.Marker(location=[lat,lon], popup=nombre).add_to(clusterDeUbicacionesPaloAlto)"
   ]
  },
  {
   "cell_type": "code",
   "execution_count": null,
   "metadata": {
    "collapsed": false
   },
   "outputs": [],
   "source": [
    "for startLat, startLon, startName, endLat, endLon, endName, cant in zip(dfViajesEntreEstacionesEnPaloAltoBottomN.start_station_lat,\\\n",
    "                                                                       dfViajesEntreEstacionesEnPaloAltoBottomN.start_station_long,\\\n",
    "                                                                       dfViajesEntreEstacionesEnPaloAltoBottomN.start_station_name,\\\n",
    "                                                                       dfViajesEntreEstacionesEnPaloAltoBottomN.end_station_lat,\\\n",
    "                                                                       dfViajesEntreEstacionesEnPaloAltoBottomN.end_station_long,\\\n",
    "                                                                       dfViajesEntreEstacionesEnPaloAltoBottomN.end_station_name,\\\n",
    "                                                                       dfViajesEntreEstacionesEnPaloAltoBottomN.cantidad):\n",
    "    folium.PolyLine(locations=[(startLat, startLon), (endLat, endLon)], color=coloresPaloAltoBottomN(cant), weight=5, opacity=1).add_to(bottomViajesEntreEstacionesEnPaloAltoMap)\n",
    "bottomViajesEntreEstacionesEnPaloAltoMap"
   ]
  },
  {
   "cell_type": "markdown",
   "metadata": {},
   "source": [
    "# Viajes entre estaciones de distintas ciudades"
   ]
  },
  {
   "cell_type": "code",
   "execution_count": null,
   "metadata": {
    "collapsed": false
   },
   "outputs": [],
   "source": [
    "dfViajesEntreEstacionesDeDistinasCiudades = (dfViajesEntreEstaciones[dfViajesEntreEstaciones.start_city != dfViajesEntreEstaciones.end_city])\n",
    "# dfViajesEntreEstacionesEnPaloAlto = (dfViajesEntreEstacionesEnPaloAlto[dfViajesEntreEstacionesEnPaloAlto.end_city == 'Palo Alto']).drop('end_city', 1)\n",
    "dfViajesEntreEstacionesDeDistinasCiudades.sort_values(by='cantidad')"
   ]
  },
  {
   "cell_type": "code",
   "execution_count": null,
   "metadata": {
    "collapsed": true
   },
   "outputs": [],
   "source": [
    "latDeDistinasCiudadesPromedio = dfViajesEntreEstacionesDeDistinasCiudades.start_station_lat.mean()\n",
    "longDeDistinasCiudadesPromedio = dfViajesEntreEstacionesDeDistinasCiudades.start_station_long.mean()"
   ]
  },
  {
   "cell_type": "code",
   "execution_count": null,
   "metadata": {
    "collapsed": false
   },
   "outputs": [],
   "source": [
    "viajesEntreEstacionesDeDistinasCiudadesMap = folium.Map(location=[latDeDistinasCiudadesPromedio, longDeDistinasCiudadesPromedio], tiles = \"Stamen Terrain\", zoom_start=10)\n",
    "viajesEntreEstacionesDeDistinasCiudadesMap"
   ]
  },
  {
   "cell_type": "code",
   "execution_count": null,
   "metadata": {
    "collapsed": false
   },
   "outputs": [],
   "source": [
    "dfViajesEntreEstacionesDeDistinasCiudades.cantidad.describe()"
   ]
  },
  {
   "cell_type": "code",
   "execution_count": null,
   "metadata": {
    "collapsed": true
   },
   "outputs": [],
   "source": [
    "maxCantidadDeViajesDeDistinasCiudades = dfViajesEntreEstacionesDeDistinasCiudades.cantidad.max()"
   ]
  },
  {
   "cell_type": "code",
   "execution_count": null,
   "metadata": {
    "collapsed": true
   },
   "outputs": [],
   "source": [
    "coloresDeDistinasCiudades = cm.StepColormap(['green', 'magenta', 'red'],\n",
    "                       vmin=1, vmax=maxCantidadDeViajesDeDistinasCiudades, index=[1, 2, 6, maxCantidadDeViajesDeDistinasCiudades],\n",
    "                       caption='step')\n",
    "coloresDeDistinasCiudades.caption = 'Cantidad de viajes entre estaciones de distinas ciudades'\n",
    "coloresDeDistinasCiudades\n",
    "coloresDeDistinasCiudades2 = cm.linear.YlGn.scale(0, maxCantidadDeViajesDeDistinasCiudades)"
   ]
  },
  {
   "cell_type": "code",
   "execution_count": null,
   "metadata": {
    "collapsed": false
   },
   "outputs": [],
   "source": [
    "viajesEntreEstacionesDeDistinasCiudadesMap.add_child(coloresDeDistinasCiudades)"
   ]
  },
  {
   "cell_type": "code",
   "execution_count": null,
   "metadata": {
    "collapsed": true
   },
   "outputs": [],
   "source": [
    "clusterDeUbicaciones = folium.MarkerCluster().add_to(viajesEntreEstacionesDeDistinasCiudadesMap)\n",
    "for lat, lon, nombre in zip(dfEstaciones.lat, dfEstaciones.long, dfEstaciones.name):\n",
    "    folium.Marker(location=[lat,lon], popup=nombre).add_to(clusterDeUbicaciones)"
   ]
  },
  {
   "cell_type": "code",
   "execution_count": null,
   "metadata": {
    "collapsed": false
   },
   "outputs": [],
   "source": [
    "for startLat, startLon, startName, endLat, endLon, endName, cant in zip(dfViajesEntreEstacionesDeDistinasCiudades.start_station_lat,\\\n",
    "                                                                       dfViajesEntreEstacionesDeDistinasCiudades.start_station_long,\\\n",
    "                                                                       dfViajesEntreEstacionesDeDistinasCiudades.start_station_name,\\\n",
    "                                                                       dfViajesEntreEstacionesDeDistinasCiudades.end_station_lat,\\\n",
    "                                                                       dfViajesEntreEstacionesDeDistinasCiudades.end_station_long,\\\n",
    "                                                                       dfViajesEntreEstacionesDeDistinasCiudades.end_station_name,\\\n",
    "                                                                       dfViajesEntreEstacionesDeDistinasCiudades.cantidad):\n",
    "    folium.PolyLine(locations=[(startLat, startLon), (endLat, endLon)], color=coloresDeDistinasCiudades(cant), weight=3, opacity=1).add_to(viajesEntreEstacionesDeDistinasCiudadesMap)\n",
    "viajesEntreEstacionesDeDistinasCiudadesMap"
   ]
  },
  {
   "cell_type": "markdown",
   "metadata": {},
   "source": [
    "## Grafico de porcentaje de uso por estacion"
   ]
  },
  {
   "cell_type": "code",
   "execution_count": null,
   "metadata": {
    "collapsed": false
   },
   "outputs": [],
   "source": [
    "porcentajeDeViajesMap = folium.Map(location=[latPromedio, longPromedio], tiles = \"Stamen Terrain\")\n",
    "porcentajeDeViajesMap"
   ]
  },
  {
   "cell_type": "code",
   "execution_count": null,
   "metadata": {
    "collapsed": false
   },
   "outputs": [],
   "source": [
    "clusterDeUbicaciones = folium.MarkerCluster().add_to(porcentajeDeViajesMap)\n",
    "for lat, lon, nombre in zip(dfEstaciones.lat, dfEstaciones.long, dfEstaciones.name):\n",
    "    folium.Marker(location=[lat,lon], popup=nombre).add_to(clusterDeUbicaciones)\n",
    "    \n",
    "porcentajeDeViajesMap"
   ]
  },
  {
   "cell_type": "code",
   "execution_count": null,
   "metadata": {
    "collapsed": false
   },
   "outputs": [],
   "source": [
    "minPercentageInUsagePercentagePerStation = dfusagePercentagePerStation.docks_usage_percentage.min()\n",
    "maxPercentageInUsagePercentagePerStation = dfusagePercentagePerStation.docks_usage_percentage.max()\n",
    "grupoDeUbicacionesConPorcentajesDeViajes = folium.FeatureGroup(name='Uso de las estaciones')\n",
    "for lat, lon, nombre, porcentaje in zip(dfusagePercentagePerStation.lat, dfusagePercentagePerStation.long, \\\n",
    "                                        dfusagePercentagePerStation.name, dfusagePercentagePerStation.docks_usage_percentage):\n",
    "    grupoDeUbicacionesConPorcentajesDeViajes.add_child(folium.CircleMarker(location=[lat,lon], popup=nombre, \n",
    "                                                     radius=(((porcentaje - minPercentageInUsagePercentagePerStation) * (80 - 1)) / (maxPercentageInUsagePercentagePerStation - minPercentageInUsagePercentagePerStation)) + 1, \n",
    "                                                     fill_color='#b3ffb3', color='#00ff00'))\n",
    "    \n",
    "porcentajeDeViajesMap.add_child(grupoDeUbicacionesConPorcentajesDeViajes)"
   ]
  }
 ],
 "metadata": {
  "kernelspec": {
   "display_name": "Python 2",
   "language": "python",
   "name": "python2"
  },
  "language_info": {
   "codemirror_mode": {
    "name": "ipython",
    "version": 2
   },
   "file_extension": ".py",
   "mimetype": "text/x-python",
   "name": "python",
   "nbconvert_exporter": "python",
   "pygments_lexer": "ipython2",
   "version": "2.7.13"
  }
 },
 "nbformat": 4,
 "nbformat_minor": 2
}
